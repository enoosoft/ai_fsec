{
  "nbformat": 4,
  "nbformat_minor": 0,
  "metadata": {
    "colab": {
      "name": "ai_fsec.ipynb",
      "provenance": [],
      "toc_visible": true,
      "authorship_tag": "ABX9TyOsNl3haq0a0SWpjskKnR9o",
      "include_colab_link": true
    },
    "kernelspec": {
      "name": "python3",
      "display_name": "Python 3"
    },
    "language_info": {
      "name": "python"
    }
  },
  "cells": [
    {
      "cell_type": "markdown",
      "metadata": {
        "id": "view-in-github",
        "colab_type": "text"
      },
      "source": [
        "<a href=\"https://colab.research.google.com/github/enoosoft/ai_fsec/blob/master/ai_fsec.ipynb\" target=\"_parent\"><img src=\"https://colab.research.google.com/assets/colab-badge.svg\" alt=\"Open In Colab\"/></a>"
      ]
    },
    {
      "cell_type": "markdown",
      "source": [
        "# Day1 (8/9)\n",
        "\n",
        "**헬로 파이토치**를 출력합니다\n",
        "1. print \n",
        "2. hello pytorch 입력\n"
      ],
      "metadata": {
        "id": "qXN975CqWxC1"
      }
    },
    {
      "cell_type": "code",
      "execution_count": null,
      "metadata": {
        "id": "ZDl2yj9zVkXF",
        "colab": {
          "base_uri": "https://localhost:8080/"
        },
        "outputId": "59a6a301-3b49-4c96-db47-e0a9571e439a"
      },
      "outputs": [
        {
          "output_type": "stream",
          "name": "stdout",
          "text": [
            "Hello pytorch\n"
          ]
        }
      ],
      "source": [
        "print(\"Hello pytorch\")"
      ]
    },
    {
      "cell_type": "code",
      "source": [
        ""
      ],
      "metadata": {
        "id": "DeJ7I4R8WlSs"
      },
      "execution_count": null,
      "outputs": []
    },
    {
      "cell_type": "markdown",
      "source": [
        "## Day1-001\n"
      ],
      "metadata": {
        "id": "QwsblUxPY__g"
      }
    }
  ]
}