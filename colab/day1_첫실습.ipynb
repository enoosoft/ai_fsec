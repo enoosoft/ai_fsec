{
  "cells": [
    {
      "cell_type": "markdown",
      "metadata": {
        "colab_type": "text",
        "id": "view-in-github"
      },
      "source": [
        "<a href=\"https://colab.research.google.com/github/enoosoft/ai_fsec/blob/master/colab/day1_%EC%B2%AB%EC%8B%A4%EC%8A%B5.ipynb\" target=\"_parent\"><img src=\"https://colab.research.google.com/assets/colab-badge.svg\" alt=\"Open In Colab\"/></a>"
      ]
    },
    {
      "cell_type": "markdown",
      "metadata": {
        "id": "qXN975CqWxC1"
      },
      "source": [
        "# Day1 (8/9)\n",
        "\n",
        "**헬로 파이토치**를 출력합니다\n",
        "1. print \n",
        "2. hello pytorch 입력\n"
      ]
    },
    {
      "cell_type": "code",
      "execution_count": null,
      "metadata": {
        "colab": {
          "base_uri": "https://localhost:8080/"
        },
        "id": "ZDl2yj9zVkXF",
        "outputId": "59a6a301-3b49-4c96-db47-e0a9571e439a"
      },
      "outputs": [
        {
          "name": "stdout",
          "output_type": "stream",
          "text": [
            "Hello pytorch\n"
          ]
        }
      ],
      "source": [
        "print(\"Hello pytorch\")"
      ]
    },
    {
      "cell_type": "markdown",
      "metadata": {
        "id": "QwsblUxPY__g"
      },
      "source": [
        "## Day1-001\n",
        "### 기본설정\n",
        "- 런타임 > 런타임유형변경 > GPU / None(CPU) \n",
        "   - 성능차이가 크므로 필요시 설정한다."
      ]
    }
  ],
  "metadata": {
    "accelerator": "GPU",
    "colab": {
      "authorship_tag": "ABX9TyNTBeCe9omPUBrG2LkyGXvg",
      "collapsed_sections": [],
      "include_colab_link": true,
      "name": "colab/day1_첫실습.ipynb",
      "provenance": [],
      "toc_visible": true
    },
    "gpuClass": "standard",
    "kernelspec": {
      "display_name": "Python 3.10.1 64-bit ('3.10.1')",
      "language": "python",
      "name": "python3"
    },
    "language_info": {
      "name": "python",
      "version": "3.10.1"
    },
    "vscode": {
      "interpreter": {
        "hash": "6fb940f28cdeb4d0f3efab4ebcd10cc33ac5350c399a7abce4fc298ff5aecbb2"
      }
    }
  },
  "nbformat": 4,
  "nbformat_minor": 0
}
