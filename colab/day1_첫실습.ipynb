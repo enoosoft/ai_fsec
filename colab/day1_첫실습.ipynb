{
  "nbformat": 4,
  "nbformat_minor": 0,
  "metadata": {
    "colab": {
      "name": "day1_첫실습.ipynb",
      "provenance": [],
      "collapsed_sections": [],
      "toc_visible": true,
      "authorship_tag": "ABX9TyNTBeCe9omPUBrG2LkyGXvg",
      "include_colab_link": true
    },
    "kernelspec": {
      "name": "python3",
      "display_name": "Python 3"
    },
    "language_info": {
      "name": "python"
    },
    "accelerator": "GPU",
    "gpuClass": "standard"
  },
  "cells": [
    {
      "cell_type": "markdown",
      "metadata": {
        "id": "view-in-github",
        "colab_type": "text"
      },
      "source": [
        "<a href=\"https://colab.research.google.com/github/enoosoft/ai_fsec/blob/master/colab/day1_%EC%B2%AB%EC%8B%A4%EC%8A%B5.ipynb\" target=\"_parent\"><img src=\"https://colab.research.google.com/assets/colab-badge.svg\" alt=\"Open In Colab\"/></a>"
      ]
    },
    {
      "cell_type": "markdown",
      "source": [
        "# Day1 (8/9)\n",
        "\n",
        "**헬로 파이토치**를 출력합니다\n",
        "1. print \n",
        "2. hello pytorch 입력\n"
      ],
      "metadata": {
        "id": "qXN975CqWxC1"
      }
    },
    {
      "cell_type": "code",
      "execution_count": null,
      "metadata": {
        "id": "ZDl2yj9zVkXF",
        "colab": {
          "base_uri": "https://localhost:8080/"
        },
        "outputId": "59a6a301-3b49-4c96-db47-e0a9571e439a"
      },
      "outputs": [
        {
          "output_type": "stream",
          "name": "stdout",
          "text": [
            "Hello pytorch\n"
          ]
        }
      ],
      "source": [
        "print(\"Hello pytorch\")"
      ]
    },
    {
      "cell_type": "markdown",
      "source": [
        "## Day1-001\n",
        "### 기본설정\n",
        "- 런타임 > 런타임유형변경 > GPU / None(CPU) \n",
        "   - 성능차이가 크므로 필요시 설정한다."
      ],
      "metadata": {
        "id": "QwsblUxPY__g"
      }
    }
  ]
}