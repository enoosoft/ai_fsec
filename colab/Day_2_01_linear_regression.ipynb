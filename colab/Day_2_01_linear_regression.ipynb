{
  "nbformat": 4,
  "nbformat_minor": 0,
  "metadata": {
    "kernelspec": {
      "display_name": "Python 3",
      "language": "python",
      "name": "python3"
    },
    "language_info": {
      "codemirror_mode": {
        "name": "ipython",
        "version": 3
      },
      "file_extension": ".py",
      "mimetype": "text/x-python",
      "name": "python",
      "nbconvert_exporter": "python",
      "pygments_lexer": "ipython3",
      "version": "3.7.0"
    },
    "colab": {
      "name": "Day 2_01.linear_regression.ipynb",
      "provenance": [],
      "collapsed_sections": [
        "5cvYw6ixPAA_",
        "YvofEPwHPABD",
        "BovS9FK-PABL",
        "6sZ8_zntPABP"
      ],
      "toc_visible": true,
      "include_colab_link": true
    },
    "accelerator": "GPU"
  },
  "cells": [
    {
      "cell_type": "markdown",
      "metadata": {
        "id": "view-in-github",
        "colab_type": "text"
      },
      "source": [
        "<a href=\"https://colab.research.google.com/github/enoosoft/ai_fsec/blob/master/colab/Day_2_01_linear_regression.ipynb\" target=\"_parent\"><img src=\"https://colab.research.google.com/assets/colab-badge.svg\" alt=\"Open In Colab\"/></a>"
      ]
    },
    {
      "cell_type": "markdown",
      "metadata": {
        "id": "O8rAmKt0O__7"
      },
      "source": [
        "#Linear Regression"
      ]
    },
    {
      "cell_type": "markdown",
      "metadata": {
        "id": "-y10JwozO__9"
      },
      "source": [
        "## Theoretical Overview"
      ]
    },
    {
      "cell_type": "markdown",
      "metadata": {
        "id": "UikJSKziO__9"
      },
      "source": [
        "$$ H(x) = Wx + b $$"
      ]
    },
    {
      "cell_type": "markdown",
      "metadata": {
        "id": "Ccvgrim3O__-"
      },
      "source": [
        "$$ cost(W, b) = \\frac{1}{m} \\sum^m_{i=1} \\left( H(x^{(i)}) - y^{(i)} \\right)^2 $$"
      ]
    },
    {
      "cell_type": "markdown",
      "metadata": {
        "id": "EXHfaWbpO__-"
      },
      "source": [
        " - $H(x)$: 주어진 $x$ 값에 대해 예측을 어떻게 할 것인가\n",
        " - $cost(W, b)$: $H(x)$ 가 $y$ 를 얼마나 잘 예측했는가"
      ]
    },
    {
      "cell_type": "markdown",
      "metadata": {
        "id": "X0faXIKdO___"
      },
      "source": [
        "## Imports"
      ]
    },
    {
      "cell_type": "code",
      "metadata": {
        "id": "5WzsrmHkO___"
      },
      "source": [
        "import torch\n",
        "import torch.nn as nn #Newtral network\n",
        "import torch.nn.functional as F \n",
        "import torch.optim as optim # Gradient decent 쓰기위함"
      ],
      "execution_count": 153,
      "outputs": []
    },
    {
      "cell_type": "code",
      "metadata": {
        "id": "wuMwLossPAAC",
        "outputId": "966179c2-26f2-4a15-c20a-7730ef233463",
        "colab": {
          "base_uri": "https://localhost:8080/"
        }
      },
      "source": [
        "# For reproducibility 랜던하게 나오는 결과를 통일하기 위함\n",
        "torch.manual_seed(1)"
      ],
      "execution_count": 154,
      "outputs": [
        {
          "output_type": "execute_result",
          "data": {
            "text/plain": [
              "<torch._C.Generator at 0x7ff1ff1a9930>"
            ]
          },
          "metadata": {},
          "execution_count": 154
        }
      ]
    },
    {
      "cell_type": "markdown",
      "metadata": {
        "id": "1HgGCvCRPAAG"
      },
      "source": [
        "## Data"
      ]
    },
    {
      "cell_type": "markdown",
      "metadata": {
        "id": "FUgwcb27PAAH"
      },
      "source": [
        "We will use fake data for this example."
      ]
    },
    {
      "cell_type": "code",
      "metadata": {
        "id": "Wz1t0iL1PAAI"
      },
      "source": [
        "x_train = torch.FloatTensor([[1], [2], [3]]) # x 3x1\n",
        "y_train = torch.FloatTensor([[1], [2], [3]]) # y 3x1"
      ],
      "execution_count": 155,
      "outputs": []
    },
    {
      "cell_type": "code",
      "metadata": {
        "id": "PrJ9WIDsPAAK",
        "outputId": "cf489e80-a242-47f2-ca8e-cb4ab2365be3",
        "colab": {
          "base_uri": "https://localhost:8080/"
        }
      },
      "source": [
        "print(x_train)\n",
        "print(x_train.shape)"
      ],
      "execution_count": 156,
      "outputs": [
        {
          "output_type": "stream",
          "name": "stdout",
          "text": [
            "tensor([[1.],\n",
            "        [2.],\n",
            "        [3.]])\n",
            "torch.Size([3, 1])\n"
          ]
        }
      ]
    },
    {
      "cell_type": "code",
      "metadata": {
        "id": "qLlpUg0gPAAN",
        "outputId": "abca0d88-31a9-4e48-c063-b6c754978909",
        "colab": {
          "base_uri": "https://localhost:8080/"
        }
      },
      "source": [
        "print(y_train)\n",
        "print(y_train.shape)"
      ],
      "execution_count": 157,
      "outputs": [
        {
          "output_type": "stream",
          "name": "stdout",
          "text": [
            "tensor([[1.],\n",
            "        [2.],\n",
            "        [3.]])\n",
            "torch.Size([3, 1])\n"
          ]
        }
      ]
    },
    {
      "cell_type": "markdown",
      "metadata": {
        "id": "2kJ6RMs-PAAQ"
      },
      "source": [
        "## Weight Initialization"
      ]
    },
    {
      "cell_type": "code",
      "metadata": {
        "id": "aqWo4AlaPAAQ",
        "outputId": "36cb1bd9-a515-47aa-95f5-5cbd19d831ec",
        "colab": {
          "base_uri": "https://localhost:8080/"
        }
      },
      "source": [
        "W = torch.zeros(1, requires_grad=True) # 직선 초기화(y=0, 실무에서는 초기화가 중요함)\n",
        "print(W)"
      ],
      "execution_count": 158,
      "outputs": [
        {
          "output_type": "stream",
          "name": "stdout",
          "text": [
            "tensor([0.], requires_grad=True)\n"
          ]
        }
      ]
    },
    {
      "cell_type": "code",
      "metadata": {
        "id": "yfikrpqXPAAT",
        "outputId": "7a00ebd6-c45d-4c47-9fc5-9d6223d2cc67",
        "colab": {
          "base_uri": "https://localhost:8080/"
        }
      },
      "source": [
        "b = torch.zeros(1, requires_grad=True)\n",
        "print(b)"
      ],
      "execution_count": 159,
      "outputs": [
        {
          "output_type": "stream",
          "name": "stdout",
          "text": [
            "tensor([0.], requires_grad=True)\n"
          ]
        }
      ]
    },
    {
      "cell_type": "markdown",
      "metadata": {
        "id": "oAI_0hs3PAAV"
      },
      "source": [
        "## Hypothesis"
      ]
    },
    {
      "cell_type": "markdown",
      "metadata": {
        "id": "_6VF0DFRPAAW"
      },
      "source": [
        "$$ H(x) = Wx + b $$"
      ]
    },
    {
      "cell_type": "code",
      "metadata": {
        "id": "6pusrrvXPAAW",
        "outputId": "5bb919e2-f285-4e19-ea15-dacff260f6b5",
        "colab": {
          "base_uri": "https://localhost:8080/"
        }
      },
      "source": [
        "hypothesis = x_train * W + b\n",
        "print(hypothesis)"
      ],
      "execution_count": 160,
      "outputs": [
        {
          "output_type": "stream",
          "name": "stdout",
          "text": [
            "tensor([[0.],\n",
            "        [0.],\n",
            "        [0.]], grad_fn=<AddBackward0>)\n"
          ]
        }
      ]
    },
    {
      "cell_type": "markdown",
      "metadata": {
        "id": "RlnrYPVtPAAZ"
      },
      "source": [
        "## Cost"
      ]
    },
    {
      "cell_type": "markdown",
      "metadata": {
        "id": "Bb-TAA1yPAAZ"
      },
      "source": [
        "$$ cost(W, b) = \\frac{1}{m} \\sum^m_{i=1} \\left( H(x^{(i)}) - y^{(i)} \\right)^2 $$"
      ]
    },
    {
      "cell_type": "code",
      "metadata": {
        "id": "nLgBiNx8PAAa",
        "outputId": "8b7de243-7762-4539-e742-a63c5ff41d60",
        "colab": {
          "base_uri": "https://localhost:8080/"
        }
      },
      "source": [
        "print(hypothesis)"
      ],
      "execution_count": 161,
      "outputs": [
        {
          "output_type": "stream",
          "name": "stdout",
          "text": [
            "tensor([[0.],\n",
            "        [0.],\n",
            "        [0.]], grad_fn=<AddBackward0>)\n"
          ]
        }
      ]
    },
    {
      "cell_type": "code",
      "metadata": {
        "id": "9_DQrQfiPAAd",
        "outputId": "8b1e7ce0-535f-4d52-b18d-c1db95aec3dd",
        "colab": {
          "base_uri": "https://localhost:8080/"
        }
      },
      "source": [
        "print(y_train)"
      ],
      "execution_count": 162,
      "outputs": [
        {
          "output_type": "stream",
          "name": "stdout",
          "text": [
            "tensor([[1.],\n",
            "        [2.],\n",
            "        [3.]])\n"
          ]
        }
      ]
    },
    {
      "cell_type": "code",
      "metadata": {
        "id": "krXeuMpDPAAf",
        "outputId": "34f5a8bc-b460-4879-eeb8-0e2c9c08192f",
        "colab": {
          "base_uri": "https://localhost:8080/"
        }
      },
      "source": [
        "print(hypothesis - y_train)"
      ],
      "execution_count": 163,
      "outputs": [
        {
          "output_type": "stream",
          "name": "stdout",
          "text": [
            "tensor([[-1.],\n",
            "        [-2.],\n",
            "        [-3.]], grad_fn=<SubBackward0>)\n"
          ]
        }
      ]
    },
    {
      "cell_type": "code",
      "metadata": {
        "id": "Y2w5u5TjPAAh",
        "outputId": "5a71d637-479f-49cf-863b-ef222a7ab3f6",
        "colab": {
          "base_uri": "https://localhost:8080/"
        }
      },
      "source": [
        "print((hypothesis - y_train) ** 2)"
      ],
      "execution_count": 164,
      "outputs": [
        {
          "output_type": "stream",
          "name": "stdout",
          "text": [
            "tensor([[1.],\n",
            "        [4.],\n",
            "        [9.]], grad_fn=<PowBackward0>)\n"
          ]
        }
      ]
    },
    {
      "cell_type": "code",
      "metadata": {
        "id": "P0eLb4y0PAAj",
        "outputId": "2a124cdd-9277-41fd-a290-367f6cbfccaf",
        "colab": {
          "base_uri": "https://localhost:8080/"
        }
      },
      "source": [
        "cost = torch.mean((hypothesis - y_train) ** 2)\n",
        "print(cost)"
      ],
      "execution_count": 165,
      "outputs": [
        {
          "output_type": "stream",
          "name": "stdout",
          "text": [
            "tensor(4.6667, grad_fn=<MeanBackward0>)\n"
          ]
        }
      ]
    },
    {
      "cell_type": "markdown",
      "metadata": {
        "id": "S6imPX1pPAAo"
      },
      "source": [
        "## Gradient Descent 경사하강 알고리즘\n",
        " - lr: learning rate = 학습률(해상도?)"
      ]
    },
    {
      "cell_type": "code",
      "metadata": {
        "id": "Bwg8IelTPAAo"
      },
      "source": [
        "optimizer = optim.SGD([W, b], lr=0.01)"
      ],
      "execution_count": 166,
      "outputs": []
    },
    {
      "cell_type": "code",
      "metadata": {
        "id": "wKlVZsQ9PAAr"
      },
      "source": [
        "optimizer.zero_grad()\n",
        "cost.backward()\n",
        "optimizer.step()"
      ],
      "execution_count": 167,
      "outputs": []
    },
    {
      "cell_type": "markdown",
      "source": [
        "- 위 3개 세트로 사용한다"
      ],
      "metadata": {
        "id": "39qG818YIlhB"
      }
    },
    {
      "cell_type": "code",
      "metadata": {
        "id": "EDetljuOPAAt",
        "outputId": "5df2e63a-0049-4825-c1cb-acc53ac007b2",
        "colab": {
          "base_uri": "https://localhost:8080/"
        }
      },
      "source": [
        "print(W)\n",
        "print(b)"
      ],
      "execution_count": 168,
      "outputs": [
        {
          "output_type": "stream",
          "name": "stdout",
          "text": [
            "tensor([0.0933], requires_grad=True)\n",
            "tensor([0.0400], requires_grad=True)\n"
          ]
        }
      ]
    },
    {
      "cell_type": "markdown",
      "metadata": {
        "id": "AGnT-7I1PAAv"
      },
      "source": [
        "Let's check if the hypothesis is now better."
      ]
    },
    {
      "cell_type": "code",
      "metadata": {
        "id": "o4Bd0GtyPAAw",
        "outputId": "c68ed855-f402-4a38-f7e9-b66eaa0ee21b",
        "colab": {
          "base_uri": "https://localhost:8080/"
        }
      },
      "source": [
        "hypothesis = x_train * W + b\n",
        "print(hypothesis)"
      ],
      "execution_count": 169,
      "outputs": [
        {
          "output_type": "stream",
          "name": "stdout",
          "text": [
            "tensor([[0.1333],\n",
            "        [0.2267],\n",
            "        [0.3200]], grad_fn=<AddBackward0>)\n"
          ]
        }
      ]
    },
    {
      "cell_type": "code",
      "metadata": {
        "id": "lDcNV_kTPAAx",
        "outputId": "ee10f104-f667-4335-f84c-9107870484d7",
        "colab": {
          "base_uri": "https://localhost:8080/"
        }
      },
      "source": [
        "cost = torch.mean((hypothesis - y_train) ** 2)\n",
        "print(cost)"
      ],
      "execution_count": 171,
      "outputs": [
        {
          "output_type": "stream",
          "name": "stdout",
          "text": [
            "tensor(3.6927, grad_fn=<MeanBackward0>)\n"
          ]
        }
      ]
    },
    {
      "cell_type": "markdown",
      "metadata": {
        "id": "n7YUecwoPAAz"
      },
      "source": [
        "## Training with Full Code"
      ]
    },
    {
      "cell_type": "markdown",
      "metadata": {
        "id": "IKYbt3iZPAA0"
      },
      "source": [
        "In reality, we will be training on the dataset for multiple epochs. This can be done simply with loops."
      ]
    },
    {
      "cell_type": "code",
      "metadata": {
        "id": "bxWm6CVyPAA0",
        "outputId": "a26dcec0-2047-4b6d-cc7f-f3bedb5addfa",
        "colab": {
          "base_uri": "https://localhost:8080/"
        }
      },
      "source": [
        "# 데이터\n",
        "x_train = torch.FloatTensor([[1], [2], [3]])\n",
        "y_train = torch.FloatTensor([[1], [2], [3]])\n",
        "# 모델 초기화\n",
        "W = torch.zeros(1, requires_grad=True)\n",
        "b = torch.zeros(1, requires_grad=True)\n",
        "# optimizer 설정\n",
        "optimizer = optim.SGD([W, b], lr=0.1)\n",
        "\n",
        "nb_epochs = 500\n",
        "for epoch in range(nb_epochs + 1):\n",
        "    \n",
        "    # H(x) 계산\n",
        "    hypothesis = x_train * W + b\n",
        "    \n",
        "    # cost 계산\n",
        "    cost = torch.mean((hypothesis - y_train) ** 2)\n",
        "\n",
        "    # cost로 H(x) 개선\n",
        "    optimizer.zero_grad()\n",
        "    cost.backward()\n",
        "    optimizer.step()\n",
        "\n",
        "    # 50번마다 로그 출력\n",
        "    if epoch % 10 == 0:\n",
        "        print('Epoch {:4d}/{} W: {:.3f}, b: {:.3f} Cost: {:.6f}'.format(\n",
        "            epoch, nb_epochs, W.item(), b.item(), cost.item()\n",
        "        ))"
      ],
      "execution_count": 184,
      "outputs": [
        {
          "output_type": "stream",
          "name": "stdout",
          "text": [
            "Epoch    0/500 W: 0.933, b: 0.400 Cost: 4.666667\n",
            "Epoch   10/500 W: 0.876, b: 0.282 Cost: 0.011979\n",
            "Epoch   20/500 W: 0.903, b: 0.221 Cost: 0.007363\n",
            "Epoch   30/500 W: 0.924, b: 0.173 Cost: 0.004526\n",
            "Epoch   40/500 W: 0.940, b: 0.136 Cost: 0.002782\n",
            "Epoch   50/500 W: 0.953, b: 0.107 Cost: 0.001710\n",
            "Epoch   60/500 W: 0.963, b: 0.084 Cost: 0.001051\n",
            "Epoch   70/500 W: 0.971, b: 0.065 Cost: 0.000646\n",
            "Epoch   80/500 W: 0.977, b: 0.051 Cost: 0.000397\n",
            "Epoch   90/500 W: 0.982, b: 0.040 Cost: 0.000244\n",
            "Epoch  100/500 W: 0.986, b: 0.032 Cost: 0.000150\n",
            "Epoch  110/500 W: 0.989, b: 0.025 Cost: 0.000092\n",
            "Epoch  120/500 W: 0.991, b: 0.019 Cost: 0.000057\n",
            "Epoch  130/500 W: 0.993, b: 0.015 Cost: 0.000035\n",
            "Epoch  140/500 W: 0.995, b: 0.012 Cost: 0.000021\n",
            "Epoch  150/500 W: 0.996, b: 0.009 Cost: 0.000013\n",
            "Epoch  160/500 W: 0.997, b: 0.007 Cost: 0.000008\n",
            "Epoch  170/500 W: 0.997, b: 0.006 Cost: 0.000005\n",
            "Epoch  180/500 W: 0.998, b: 0.005 Cost: 0.000003\n",
            "Epoch  190/500 W: 0.998, b: 0.004 Cost: 0.000002\n",
            "Epoch  200/500 W: 0.999, b: 0.003 Cost: 0.000001\n",
            "Epoch  210/500 W: 0.999, b: 0.002 Cost: 0.000001\n",
            "Epoch  220/500 W: 0.999, b: 0.002 Cost: 0.000000\n",
            "Epoch  230/500 W: 0.999, b: 0.001 Cost: 0.000000\n",
            "Epoch  240/500 W: 1.000, b: 0.001 Cost: 0.000000\n",
            "Epoch  250/500 W: 1.000, b: 0.001 Cost: 0.000000\n",
            "Epoch  260/500 W: 1.000, b: 0.001 Cost: 0.000000\n",
            "Epoch  270/500 W: 1.000, b: 0.001 Cost: 0.000000\n",
            "Epoch  280/500 W: 1.000, b: 0.000 Cost: 0.000000\n",
            "Epoch  290/500 W: 1.000, b: 0.000 Cost: 0.000000\n",
            "Epoch  300/500 W: 1.000, b: 0.000 Cost: 0.000000\n",
            "Epoch  310/500 W: 1.000, b: 0.000 Cost: 0.000000\n",
            "Epoch  320/500 W: 1.000, b: 0.000 Cost: 0.000000\n",
            "Epoch  330/500 W: 1.000, b: 0.000 Cost: 0.000000\n",
            "Epoch  340/500 W: 1.000, b: 0.000 Cost: 0.000000\n",
            "Epoch  350/500 W: 1.000, b: 0.000 Cost: 0.000000\n",
            "Epoch  360/500 W: 1.000, b: 0.000 Cost: 0.000000\n",
            "Epoch  370/500 W: 1.000, b: 0.000 Cost: 0.000000\n",
            "Epoch  380/500 W: 1.000, b: 0.000 Cost: 0.000000\n",
            "Epoch  390/500 W: 1.000, b: 0.000 Cost: 0.000000\n",
            "Epoch  400/500 W: 1.000, b: 0.000 Cost: 0.000000\n",
            "Epoch  410/500 W: 1.000, b: 0.000 Cost: 0.000000\n",
            "Epoch  420/500 W: 1.000, b: 0.000 Cost: 0.000000\n",
            "Epoch  430/500 W: 1.000, b: 0.000 Cost: 0.000000\n",
            "Epoch  440/500 W: 1.000, b: 0.000 Cost: 0.000000\n",
            "Epoch  450/500 W: 1.000, b: 0.000 Cost: 0.000000\n",
            "Epoch  460/500 W: 1.000, b: 0.000 Cost: 0.000000\n",
            "Epoch  470/500 W: 1.000, b: 0.000 Cost: 0.000000\n",
            "Epoch  480/500 W: 1.000, b: 0.000 Cost: 0.000000\n",
            "Epoch  490/500 W: 1.000, b: 0.000 Cost: 0.000000\n",
            "Epoch  500/500 W: 1.000, b: 0.000 Cost: 0.000000\n"
          ]
        }
      ]
    },
    {
      "cell_type": "markdown",
      "metadata": {
        "id": "Z2IriYBMPAA2"
      },
      "source": [
        "## High-level Implementation with `nn.Module`"
      ]
    },
    {
      "cell_type": "markdown",
      "metadata": {
        "id": "JyUHJ3FxPAA2"
      },
      "source": [
        "Remember that we had this fake data."
      ]
    },
    {
      "cell_type": "code",
      "metadata": {
        "id": "JbsrVtDRPAA3"
      },
      "source": [
        "x_train = torch.FloatTensor([[1], [2], [3]])\n",
        "y_train = torch.FloatTensor([[1], [2], [3]])"
      ],
      "execution_count": 82,
      "outputs": []
    },
    {
      "cell_type": "markdown",
      "metadata": {
        "id": "d-f9v9MtPAA5"
      },
      "source": [
        "이제 linear regression 모델을 만들면 되는데, 기본적으로 PyTorch의 모든 모델은 제공되는 `nn.Module`을 inherit 해서 만들게 됩니다."
      ]
    },
    {
      "cell_type": "code",
      "metadata": {
        "id": "JRg7M0IbPAA6"
      },
      "source": [
        "class LinearRegressionModel(nn.Module):\n",
        "    def __init__(self):\n",
        "        super().__init__()\n",
        "        self.linear = nn.Linear(1, 1)\n",
        "\n",
        "    def forward(self, x):\n",
        "        return self.linear(x)"
      ],
      "execution_count": 83,
      "outputs": []
    },
    {
      "cell_type": "markdown",
      "metadata": {
        "id": "5XBjb2WkPAA8"
      },
      "source": [
        "모델의 `__init__`에서는 사용할 레이어들을 정의하게 됩니다. 여기서 우리는 linear regression 모델을 만들기 때문에, `nn.Linear` 를 이용할 것입니다. 그리고 `forward`에서는 이 모델이 어떻게 입력값에서 출력값을 계산하는지 알려줍니다."
      ]
    },
    {
      "cell_type": "code",
      "metadata": {
        "id": "mxvrGLmRPAA9"
      },
      "source": [
        "model = LinearRegressionModel()"
      ],
      "execution_count": 84,
      "outputs": []
    },
    {
      "cell_type": "markdown",
      "metadata": {
        "id": "5cvYw6ixPAA_"
      },
      "source": [
        "## Hypothesis"
      ]
    },
    {
      "cell_type": "markdown",
      "metadata": {
        "id": "Cz1bL3lDPAA_"
      },
      "source": [
        "이제 모델을 생성해서 예측값 $H(x)$를 구해보자"
      ]
    },
    {
      "cell_type": "code",
      "metadata": {
        "id": "eg_cKTDkPAA_"
      },
      "source": [
        "hypothesis = model(x_train)"
      ],
      "execution_count": 85,
      "outputs": []
    },
    {
      "cell_type": "code",
      "metadata": {
        "id": "abxbQXwxPABB",
        "outputId": "200f2e09-5652-49c0-c53b-843708fc5ca6",
        "colab": {
          "base_uri": "https://localhost:8080/"
        }
      },
      "source": [
        "print(hypothesis)"
      ],
      "execution_count": 86,
      "outputs": [
        {
          "output_type": "stream",
          "name": "stdout",
          "text": [
            "tensor([[0.0739],\n",
            "        [0.5891],\n",
            "        [1.1044]], grad_fn=<AddmmBackward0>)\n"
          ]
        }
      ]
    },
    {
      "cell_type": "markdown",
      "metadata": {
        "id": "YvofEPwHPABD"
      },
      "source": [
        "## Cost"
      ]
    },
    {
      "cell_type": "markdown",
      "metadata": {
        "id": "eaSIDu3pPABD"
      },
      "source": [
        "이제 mean squared error (MSE) 로 cost를 구해보자. MSE 역시 PyTorch에서 기본적으로 제공한다."
      ]
    },
    {
      "cell_type": "code",
      "metadata": {
        "id": "642K9YoAPABE",
        "outputId": "dc67546a-6475-4ccb-f718-863c1c569b74",
        "colab": {
          "base_uri": "https://localhost:8080/"
        }
      },
      "source": [
        "print(hypothesis)\n",
        "print(y_train)"
      ],
      "execution_count": 87,
      "outputs": [
        {
          "output_type": "stream",
          "name": "stdout",
          "text": [
            "tensor([[0.0739],\n",
            "        [0.5891],\n",
            "        [1.1044]], grad_fn=<AddmmBackward0>)\n",
            "tensor([[1.],\n",
            "        [2.],\n",
            "        [3.]])\n"
          ]
        }
      ]
    },
    {
      "cell_type": "code",
      "metadata": {
        "id": "qe9uUo6YPABG"
      },
      "source": [
        "cost = F.mse_loss(hypothesis, y_train)"
      ],
      "execution_count": 88,
      "outputs": []
    },
    {
      "cell_type": "code",
      "metadata": {
        "id": "w1bZeBomPABI",
        "outputId": "42b95179-bad1-4f07-e0c1-4f3ce850e7e2",
        "colab": {
          "base_uri": "https://localhost:8080/"
        }
      },
      "source": [
        "print(cost)"
      ],
      "execution_count": 89,
      "outputs": [
        {
          "output_type": "stream",
          "name": "stdout",
          "text": [
            "tensor(2.1471, grad_fn=<MseLossBackward0>)\n"
          ]
        }
      ]
    },
    {
      "cell_type": "markdown",
      "metadata": {
        "id": "BovS9FK-PABL"
      },
      "source": [
        "## Gradient Descent"
      ]
    },
    {
      "cell_type": "markdown",
      "metadata": {
        "id": "8UlxyKl4PABL"
      },
      "source": [
        "마지막 주어진 cost를 이용해 $H(x)$ 의 $W, b$ 를 바꾸어서 cost를 줄여봅니다. 이때 PyTorch의 `torch.optim` 에 있는 `optimizer` 들 중 하나를 사용할 수 있습니다."
      ]
    },
    {
      "cell_type": "code",
      "metadata": {
        "id": "4D-AOhmyPABM"
      },
      "source": [
        "optimizer = optim.SGD(model.parameters(), lr=0.01)"
      ],
      "execution_count": 90,
      "outputs": []
    },
    {
      "cell_type": "code",
      "metadata": {
        "id": "1gdQh5u-PABN"
      },
      "source": [
        "optimizer.zero_grad()\n",
        "cost.backward()\n",
        "optimizer.step()"
      ],
      "execution_count": 91,
      "outputs": []
    },
    {
      "cell_type": "markdown",
      "metadata": {
        "id": "6sZ8_zntPABP"
      },
      "source": [
        "## Training with Full Code"
      ]
    },
    {
      "cell_type": "markdown",
      "metadata": {
        "id": "xWhFm57aPABP"
      },
      "source": [
        "이제 Linear Regression 코드를 이해했으니, 실제로 코드를 돌려 피팅시켜보겠습니다."
      ]
    },
    {
      "cell_type": "code",
      "metadata": {
        "id": "q_YFvCNOPABQ",
        "outputId": "f4708de5-f4b2-482e-c478-40dbefdf2dda",
        "colab": {
          "base_uri": "https://localhost:8080/"
        }
      },
      "source": [
        "class LinearRegressionModel(nn.Module):\n",
        "    def __init__(self):\n",
        "        super().__init__()\n",
        "        self.linear = nn.Linear(1, 1)\n",
        "\n",
        "    def forward(self, x):\n",
        "        return self.linear(x)\n",
        "\n",
        "# 데이터\n",
        "x_train = torch.FloatTensor([[1], [2], [3]])\n",
        "y_train = torch.FloatTensor([[1], [2], [3]])\n",
        "# 모델 초기화\n",
        "model = LinearRegressionModel()\n",
        "# optimizer 설정\n",
        "optimizer = optim.SGD(model.parameters(), lr=0.1)\n",
        "\n",
        "nb_epochs = 1000\n",
        "for epoch in range(nb_epochs + 1):\n",
        "    \n",
        "    # H(x) 계산\n",
        "    prediction = model(x_train)\n",
        "    \n",
        "    # cost 계산\n",
        "    cost = F.mse_loss(prediction, y_train)\n",
        "    \n",
        "    # cost로 H(x) 개선\n",
        "    optimizer.zero_grad()\n",
        "    cost.backward()\n",
        "    optimizer.step()\n",
        "    \n",
        "    # 100번마다 로그 출력\n",
        "    if epoch % 100 == 0:\n",
        "        params = list(model.parameters())\n",
        "        W = params[0].item()\n",
        "        b = params[1].item()\n",
        "        print('Epoch {:4d}/{} W: {:.3f}, b: {:.3f} Cost: {:.6f}'.format(\n",
        "            epoch, nb_epochs, W, b, cost.item()\n",
        "        ))"
      ],
      "execution_count": 92,
      "outputs": [
        {
          "output_type": "stream",
          "name": "stdout",
          "text": [
            "Epoch    0/1000 W: 0.733, b: 0.853 Cost: 4.630286\n",
            "Epoch  100/1000 W: 0.969, b: 0.071 Cost: 0.000767\n",
            "Epoch  200/1000 W: 0.997, b: 0.006 Cost: 0.000006\n",
            "Epoch  300/1000 W: 1.000, b: 0.001 Cost: 0.000000\n",
            "Epoch  400/1000 W: 1.000, b: 0.000 Cost: 0.000000\n",
            "Epoch  500/1000 W: 1.000, b: 0.000 Cost: 0.000000\n",
            "Epoch  600/1000 W: 1.000, b: 0.000 Cost: 0.000000\n",
            "Epoch  700/1000 W: 1.000, b: 0.000 Cost: 0.000000\n",
            "Epoch  800/1000 W: 1.000, b: 0.000 Cost: 0.000000\n",
            "Epoch  900/1000 W: 1.000, b: 0.000 Cost: 0.000000\n",
            "Epoch 1000/1000 W: 1.000, b: 0.000 Cost: 0.000000\n"
          ]
        }
      ]
    },
    {
      "cell_type": "markdown",
      "metadata": {
        "id": "Xr7iVq_lPABR"
      },
      "source": [
        "점점 $H(x)$ 의 $W$ 와 $b$ 를 조정해서 cost가 줄어드는 것을 볼 수 있습니다."
      ]
    }
  ]
}