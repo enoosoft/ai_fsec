{
  "nbformat": 4,
  "nbformat_minor": 0,
  "metadata": {
    "kernelspec": {
      "display_name": "Python 3",
      "language": "python",
      "name": "python3"
    },
    "language_info": {
      "codemirror_mode": {
        "name": "ipython",
        "version": 3
      },
      "file_extension": ".py",
      "mimetype": "text/x-python",
      "name": "python",
      "nbconvert_exporter": "python",
      "pygments_lexer": "ipython3",
      "version": "3.6.5"
    },
    "colab": {
      "name": "Day 2_03.softmax_classification.ipynb",
      "provenance": [],
      "collapsed_sections": [],
      "include_colab_link": true
    }
  },
  "cells": [
    {
      "cell_type": "markdown",
      "metadata": {
        "id": "view-in-github",
        "colab_type": "text"
      },
      "source": [
        "<a href=\"https://colab.research.google.com/github/enoosoft/ai_fsec/blob/master/colab/Day_2_03_softmax_classification.ipynb\" target=\"_parent\"><img src=\"https://colab.research.google.com/assets/colab-badge.svg\" alt=\"Open In Colab\"/></a>"
      ]
    },
    {
      "cell_type": "markdown",
      "metadata": {
        "id": "3MuwcDHDbZCV"
      },
      "source": [
        "# Lab 6 : Softmax Classification"
      ]
    },
    {
      "cell_type": "code",
      "metadata": {
        "id": "qtRucXHTbZCX"
      },
      "source": [
        "import torch\n",
        "import torch.nn as nn\n",
        "import torch.nn.functional as F\n",
        "import torch.optim as optim"
      ],
      "execution_count": 23,
      "outputs": []
    },
    {
      "cell_type": "code",
      "metadata": {
        "id": "LuyjQY8JbZCb",
        "colab": {
          "base_uri": "https://localhost:8080/"
        },
        "outputId": "a4906861-12c2-42a2-e138-449f5aa9a457"
      },
      "source": [
        "# For reproducibility\n",
        "torch.manual_seed(1)"
      ],
      "execution_count": 24,
      "outputs": [
        {
          "output_type": "execute_result",
          "data": {
            "text/plain": [
              "<torch._C.Generator at 0x7f16c7d20910>"
            ]
          },
          "metadata": {},
          "execution_count": 24
        }
      ]
    },
    {
      "cell_type": "markdown",
      "metadata": {
        "id": "9lyCWywYbZCe"
      },
      "source": [
        "## Softmax"
      ]
    },
    {
      "cell_type": "markdown",
      "metadata": {
        "id": "TZfr_g-IbZCf"
      },
      "source": [
        "Convert numbers to probabilities with softmax."
      ]
    },
    {
      "cell_type": "markdown",
      "metadata": {
        "id": "Lj2YPsojbZCf"
      },
      "source": [
        "$$ P(class=i) = \\frac{e^i}{\\sum e^i} $$"
      ]
    },
    {
      "cell_type": "code",
      "metadata": {
        "id": "DErJN55cbZCg"
      },
      "source": [
        "z = torch.FloatTensor([1, 2, 3])"
      ],
      "execution_count": 25,
      "outputs": []
    },
    {
      "cell_type": "markdown",
      "metadata": {
        "id": "B4I7m1z_bZCj"
      },
      "source": [
        "PyTorch has a `softmax` function."
      ]
    },
    {
      "cell_type": "code",
      "metadata": {
        "id": "kV8Q_W9WbZCk",
        "colab": {
          "base_uri": "https://localhost:8080/"
        },
        "outputId": "656cd51a-7ef8-40aa-8346-f5d90e92b674"
      },
      "source": [
        "hypothesis = F.softmax(z, dim=0)\n",
        "print(hypothesis)"
      ],
      "execution_count": 26,
      "outputs": [
        {
          "output_type": "stream",
          "name": "stdout",
          "text": [
            "tensor([0.0900, 0.2447, 0.6652])\n"
          ]
        }
      ]
    },
    {
      "cell_type": "markdown",
      "metadata": {
        "id": "o_FNS9-lbZCn"
      },
      "source": [
        "Since they are probabilities, they should add up to 1. Let's do a sanity check."
      ]
    },
    {
      "cell_type": "code",
      "metadata": {
        "id": "toRtP48nbZCn",
        "colab": {
          "base_uri": "https://localhost:8080/"
        },
        "outputId": "5e625893-83e0-41f3-ead6-1352f042aed4"
      },
      "source": [
        "hypothesis.sum()"
      ],
      "execution_count": 27,
      "outputs": [
        {
          "output_type": "execute_result",
          "data": {
            "text/plain": [
              "tensor(1.)"
            ]
          },
          "metadata": {},
          "execution_count": 27
        }
      ]
    },
    {
      "cell_type": "markdown",
      "metadata": {
        "id": "8D4JlsXpbZCq"
      },
      "source": [
        "## Cross Entropy Loss (Low-level) 비용함수"
      ]
    },
    {
      "cell_type": "markdown",
      "metadata": {
        "id": "SjA2GckYbZCr"
      },
      "source": [
        "For multi-class classification, we use the cross entropy loss."
      ]
    },
    {
      "cell_type": "markdown",
      "metadata": {
        "id": "OCRKF2TwbZCs"
      },
      "source": [
        "$$ L = \\frac{1}{N} \\sum - y \\log(\\hat{y}) $$"
      ]
    },
    {
      "cell_type": "markdown",
      "metadata": {
        "id": "K46fEQPFbZCs"
      },
      "source": [
        "where $\\hat{y}$ (y hat) is the predicted probability and $y$ is the correct probability (0 or 1)."
      ]
    },
    {
      "cell_type": "code",
      "metadata": {
        "scrolled": true,
        "id": "ud8pI2AwbZCt",
        "colab": {
          "base_uri": "https://localhost:8080/"
        },
        "outputId": "ec117049-2e1a-46df-9310-09f74421444d"
      },
      "source": [
        "z = torch.rand(3, 5, requires_grad=True)\n",
        "hypothesis = F.softmax(z, dim=1)\n",
        "print(hypothesis)"
      ],
      "execution_count": 28,
      "outputs": [
        {
          "output_type": "stream",
          "name": "stdout",
          "text": [
            "tensor([[0.2645, 0.1639, 0.1855, 0.2585, 0.1277],\n",
            "        [0.2430, 0.1624, 0.2322, 0.1930, 0.1694],\n",
            "        [0.2226, 0.1986, 0.2326, 0.1594, 0.1868]], grad_fn=<SoftmaxBackward0>)\n"
          ]
        }
      ]
    },
    {
      "cell_type": "code",
      "metadata": {
        "id": "xz9rBdIHbZCv",
        "colab": {
          "base_uri": "https://localhost:8080/"
        },
        "outputId": "206fdb04-5741-4f6b-a953-4d28ae7c2a5b"
      },
      "source": [
        "y = torch.randint(5, (3,)).long()\n",
        "print(y)"
      ],
      "execution_count": 29,
      "outputs": [
        {
          "output_type": "stream",
          "name": "stdout",
          "text": [
            "tensor([0, 2, 1])\n"
          ]
        }
      ]
    },
    {
      "cell_type": "code",
      "metadata": {
        "id": "1cAyG0iybZCx",
        "colab": {
          "base_uri": "https://localhost:8080/"
        },
        "outputId": "92cfb8c6-66e4-4f7c-9953-7e2d809ebb08"
      },
      "source": [
        "y_one_hot = torch.zeros_like(hypothesis) # 0 행렬(3x5) 생성 3건을 5종으로 분류\n",
        "print(y_one_hot)\n",
        "print(y.unsqueeze(1))\n",
        "y_one_hot.scatter_(1, y.unsqueeze(1), 1)"
      ],
      "execution_count": 30,
      "outputs": [
        {
          "output_type": "stream",
          "name": "stdout",
          "text": [
            "tensor([[0., 0., 0., 0., 0.],\n",
            "        [0., 0., 0., 0., 0.],\n",
            "        [0., 0., 0., 0., 0.]])\n",
            "tensor([[0],\n",
            "        [2],\n",
            "        [1]])\n"
          ]
        },
        {
          "output_type": "execute_result",
          "data": {
            "text/plain": [
              "tensor([[1., 0., 0., 0., 0.],\n",
              "        [0., 0., 1., 0., 0.],\n",
              "        [0., 1., 0., 0., 0.]])"
            ]
          },
          "metadata": {},
          "execution_count": 30
        }
      ]
    },
    {
      "cell_type": "code",
      "metadata": {
        "id": "03QoWan6bZC0",
        "colab": {
          "base_uri": "https://localhost:8080/"
        },
        "outputId": "c3abfceb-a13b-4e61-dbec-492d35107b3e"
      },
      "source": [
        "cost = (y_one_hot * -torch.log(hypothesis)).sum(dim=1).mean()\n",
        "print(cost)"
      ],
      "execution_count": 31,
      "outputs": [
        {
          "output_type": "stream",
          "name": "stdout",
          "text": [
            "tensor(1.4689, grad_fn=<MeanBackward0>)\n"
          ]
        }
      ]
    },
    {
      "cell_type": "markdown",
      "metadata": {
        "id": "_rFW6wiCbZC2"
      },
      "source": [
        "## Cross-entropy Loss with `torch.nn.functional`"
      ]
    },
    {
      "cell_type": "markdown",
      "metadata": {
        "id": "tlNlPCABbZC2"
      },
      "source": [
        "PyTorch has `F.log_softmax()` function."
      ]
    },
    {
      "cell_type": "code",
      "metadata": {
        "id": "g0s4p2V-bZC3",
        "colab": {
          "base_uri": "https://localhost:8080/"
        },
        "outputId": "0d1e791c-21f9-422d-9e34-fafe3fc68238"
      },
      "source": [
        "# Low level # softmax 에 로그를 취한다\n",
        "torch.log(F.softmax(z, dim=1))"
      ],
      "execution_count": 32,
      "outputs": [
        {
          "output_type": "execute_result",
          "data": {
            "text/plain": [
              "tensor([[-1.3301, -1.8084, -1.6846, -1.3530, -2.0584],\n",
              "        [-1.4147, -1.8174, -1.4602, -1.6450, -1.7758],\n",
              "        [-1.5025, -1.6165, -1.4586, -1.8360, -1.6776]], grad_fn=<LogBackward0>)"
            ]
          },
          "metadata": {},
          "execution_count": 32
        }
      ]
    },
    {
      "cell_type": "code",
      "metadata": {
        "id": "g4j2oibcbZC5",
        "colab": {
          "base_uri": "https://localhost:8080/"
        },
        "outputId": "deb19160-06b0-42e5-b518-77b9a7278a0a"
      },
      "source": [
        "# High level\n",
        "F.log_softmax(z, dim=1)"
      ],
      "execution_count": 33,
      "outputs": [
        {
          "output_type": "execute_result",
          "data": {
            "text/plain": [
              "tensor([[-1.3301, -1.8084, -1.6846, -1.3530, -2.0584],\n",
              "        [-1.4147, -1.8174, -1.4602, -1.6450, -1.7758],\n",
              "        [-1.5025, -1.6165, -1.4586, -1.8360, -1.6776]],\n",
              "       grad_fn=<LogSoftmaxBackward0>)"
            ]
          },
          "metadata": {},
          "execution_count": 33
        }
      ]
    },
    {
      "cell_type": "markdown",
      "metadata": {
        "id": "OxHIN2GtbZC7"
      },
      "source": [
        "PyTorch also has `F.nll_loss()` function that computes the negative loss likelihood."
      ]
    },
    {
      "cell_type": "code",
      "metadata": {
        "id": "GlntNG_HbZC7",
        "colab": {
          "base_uri": "https://localhost:8080/"
        },
        "outputId": "6ee1e4e6-f6d5-4473-b054-fcf2d9eba574"
      },
      "source": [
        "# Low level\n",
        "(y_one_hot * -torch.log(F.softmax(z, dim=1))).sum(dim=1).mean()"
      ],
      "execution_count": 34,
      "outputs": [
        {
          "output_type": "execute_result",
          "data": {
            "text/plain": [
              "tensor(1.4689, grad_fn=<MeanBackward0>)"
            ]
          },
          "metadata": {},
          "execution_count": 34
        }
      ]
    },
    {
      "cell_type": "code",
      "metadata": {
        "id": "0NDhyMHxbZC-",
        "colab": {
          "base_uri": "https://localhost:8080/"
        },
        "outputId": "f3e37e9d-9353-4901-f200-fb2937054c14"
      },
      "source": [
        "# High level\n",
        "F.nll_loss(F.log_softmax(z, dim=1), y)"
      ],
      "execution_count": 35,
      "outputs": [
        {
          "output_type": "execute_result",
          "data": {
            "text/plain": [
              "tensor(1.4689, grad_fn=<NllLossBackward0>)"
            ]
          },
          "metadata": {},
          "execution_count": 35
        }
      ]
    },
    {
      "cell_type": "markdown",
      "metadata": {
        "id": "Vhu9brbwbZDA"
      },
      "source": [
        "PyTorch also has `F.cross_entropy` that combines `F.log_softmax()` and `F.nll_loss()`."
      ]
    },
    {
      "cell_type": "code",
      "metadata": {
        "id": "Sacbj0MFbZDB",
        "colab": {
          "base_uri": "https://localhost:8080/"
        },
        "outputId": "dc526d61-5232-40aa-d013-d958d8242122"
      },
      "source": [
        "F.cross_entropy(z, y) # 중요한건 이것만 소프트맥스 코스트 함수로 사용하면 된다."
      ],
      "execution_count": 36,
      "outputs": [
        {
          "output_type": "execute_result",
          "data": {
            "text/plain": [
              "tensor(1.4689, grad_fn=<NllLossBackward0>)"
            ]
          },
          "metadata": {},
          "execution_count": 36
        }
      ]
    },
    {
      "cell_type": "markdown",
      "metadata": {
        "id": "JRmP6LFXbZDD"
      },
      "source": [
        "## Training with Low-level Cross Entropy Loss"
      ]
    },
    {
      "cell_type": "code",
      "metadata": {
        "id": "vrmt3BfYbZDE"
      },
      "source": [
        "x_train = [[1, 2, 1, 1],\n",
        "           [2, 1, 3, 2],\n",
        "           [3, 1, 3, 4],\n",
        "           [4, 1, 5, 5],\n",
        "           [1, 7, 5, 5],\n",
        "           [1, 2, 5, 6],\n",
        "           [1, 6, 6, 6],\n",
        "           [1, 7, 7, 7]] # 8건을 3종(0,1,2)으로 분류\n",
        "y_train = [2, 2, 2, 1, 1, 1, 0, 0]\n",
        "x_train = torch.FloatTensor(x_train)\n",
        "y_train = torch.LongTensor(y_train)"
      ],
      "execution_count": 37,
      "outputs": []
    },
    {
      "cell_type": "code",
      "metadata": {
        "id": "rPJ76Z0fbZDG",
        "colab": {
          "base_uri": "https://localhost:8080/"
        },
        "outputId": "f4070a91-dc30-4170-9566-3603507935cd"
      },
      "source": [
        "# 모델 초기화\n",
        "W = torch.zeros((4, 3), requires_grad=True) #4차원, 3종으로 분류, 로지스틱회귀분석은 1을 넣는다(유효값수를 넣는다고 이해)\n",
        "b = torch.zeros(1, requires_grad=True)\n",
        "# optimizer 설정\n",
        "optimizer = optim.SGD([W, b], lr=0.1)\n",
        "\n",
        "nb_epochs = 1000\n",
        "for epoch in range(nb_epochs + 1):\n",
        "\n",
        "    # Cost 계산 (1)\n",
        "    hypothesis = F.softmax(x_train.matmul(W) + b, dim=1) # or .mm or @ 소프트맥스 안에 직선의 방정식\n",
        "    y_one_hot = torch.zeros_like(hypothesis) # 입력 데이터를 원핫 인코딩\n",
        "    y_one_hot.scatter_(1, y_train.unsqueeze(1), 1) \n",
        "    cost = (y_one_hot * -torch.log(F.softmax(hypothesis, dim=1))).sum(dim=1).mean() # hypothesis 값과 one-hot 인코딩 값의 코스트를 계산함\n",
        "\n",
        "    # cost로 H(x) 개선\n",
        "    optimizer.zero_grad()\n",
        "    cost.backward()\n",
        "    optimizer.step()\n",
        "\n",
        "    # 100번마다 로그 출력\n",
        "    if epoch % 100 == 0:\n",
        "        print('Epoch {:4d}/{} Cost: {:.6f}'.format(\n",
        "            epoch, nb_epochs, cost.item()\n",
        "        ))"
      ],
      "execution_count": 38,
      "outputs": [
        {
          "output_type": "stream",
          "name": "stdout",
          "text": [
            "Epoch    0/1000 Cost: 1.098612\n",
            "Epoch  100/1000 Cost: 0.901535\n",
            "Epoch  200/1000 Cost: 0.839114\n",
            "Epoch  300/1000 Cost: 0.807826\n",
            "Epoch  400/1000 Cost: 0.788472\n",
            "Epoch  500/1000 Cost: 0.774822\n",
            "Epoch  600/1000 Cost: 0.764449\n",
            "Epoch  700/1000 Cost: 0.756191\n",
            "Epoch  800/1000 Cost: 0.749398\n",
            "Epoch  900/1000 Cost: 0.743671\n",
            "Epoch 1000/1000 Cost: 0.738749\n"
          ]
        }
      ]
    },
    {
      "cell_type": "markdown",
      "metadata": {
        "id": "uTXPRX_ybZDI"
      },
      "source": [
        "## Training with `F.cross_entropy`"
      ]
    },
    {
      "cell_type": "code",
      "metadata": {
        "id": "IIC_F9kEbZDJ",
        "colab": {
          "base_uri": "https://localhost:8080/"
        },
        "outputId": "81892075-33d0-448c-d275-b3d2efd8da66"
      },
      "source": [
        "# 모델 초기화\n",
        "W = torch.zeros((4, 3), requires_grad=True)\n",
        "b = torch.zeros(1, requires_grad=True)\n",
        "# optimizer 설정\n",
        "optimizer = optim.SGD([W, b], lr=0.1)\n",
        "\n",
        "nb_epochs = 1000\n",
        "for epoch in range(nb_epochs + 1):\n",
        "\n",
        "    # Cost 계산 (2)\n",
        "    z = x_train.matmul(W) + b # or .mm or @\n",
        "    cost = F.cross_entropy(z, y_train) # 코스트 함수 간단히 이렇게 쓸 수 있다\n",
        "\n",
        "    # cost로 H(x) 개선\n",
        "    optimizer.zero_grad()\n",
        "    cost.backward()\n",
        "    optimizer.step()\n",
        "\n",
        "    # 100번마다 로그 출력\n",
        "    if epoch % 100 == 0:\n",
        "        print('Epoch {:4d}/{} Cost: {:.6f}'.format(\n",
        "            epoch, nb_epochs, cost.item()\n",
        "        ))"
      ],
      "execution_count": 39,
      "outputs": [
        {
          "output_type": "stream",
          "name": "stdout",
          "text": [
            "Epoch    0/1000 Cost: 1.098612\n",
            "Epoch  100/1000 Cost: 0.761050\n",
            "Epoch  200/1000 Cost: 0.689991\n",
            "Epoch  300/1000 Cost: 0.643229\n",
            "Epoch  400/1000 Cost: 0.604117\n",
            "Epoch  500/1000 Cost: 0.568256\n",
            "Epoch  600/1000 Cost: 0.533922\n",
            "Epoch  700/1000 Cost: 0.500291\n",
            "Epoch  800/1000 Cost: 0.466908\n",
            "Epoch  900/1000 Cost: 0.433507\n",
            "Epoch 1000/1000 Cost: 0.399962\n"
          ]
        }
      ]
    },
    {
      "cell_type": "markdown",
      "metadata": {
        "id": "-oEAqDPVbZDL"
      },
      "source": [
        "## High-level Implementation with `nn.Module`"
      ]
    },
    {
      "cell_type": "code",
      "metadata": {
        "id": "HXBFJapjbZDL"
      },
      "source": [
        "class SoftmaxClassifierModel(nn.Module):\n",
        "    def __init__(self):\n",
        "        super().__init__()\n",
        "        self.linear = nn.Linear(4, 3) # Output이 3!\n",
        "\n",
        "    def forward(self, x):\n",
        "        return self.linear(x)"
      ],
      "execution_count": 40,
      "outputs": []
    },
    {
      "cell_type": "code",
      "metadata": {
        "id": "gRKzBrITbZDN"
      },
      "source": [
        "model = SoftmaxClassifierModel()"
      ],
      "execution_count": 41,
      "outputs": []
    },
    {
      "cell_type": "markdown",
      "metadata": {
        "id": "TUvMoWJTbZDP"
      },
      "source": [
        "Let's try another new dataset."
      ]
    },
    {
      "cell_type": "code",
      "metadata": {
        "id": "tVORSnMubZDP",
        "colab": {
          "base_uri": "https://localhost:8080/"
        },
        "outputId": "efa76edd-9193-47fd-c201-f3bb96e68f14"
      },
      "source": [
        "# optimizer 설정\n",
        "optimizer = optim.SGD(model.parameters(), lr=0.1)\n",
        "\n",
        "nb_epochs = 1000\n",
        "for epoch in range(nb_epochs + 1):\n",
        "\n",
        "    # H(x) 계산\n",
        "    prediction = model(x_train)\n",
        "\n",
        "    # cost 계산\n",
        "    cost = F.cross_entropy(prediction, y_train)\n",
        "\n",
        "    # cost로 H(x) 개선\n",
        "    optimizer.zero_grad()\n",
        "    cost.backward()\n",
        "    optimizer.step()\n",
        "    \n",
        "    # 20번마다 로그 출력\n",
        "    if epoch % 100 == 0:\n",
        "        print('Epoch {:4d}/{} Cost: {:.6f}'.format(\n",
        "            epoch, nb_epochs, cost.item()\n",
        "        ))"
      ],
      "execution_count": 42,
      "outputs": [
        {
          "output_type": "stream",
          "name": "stdout",
          "text": [
            "Epoch    0/1000 Cost: 1.849513\n",
            "Epoch  100/1000 Cost: 0.689894\n",
            "Epoch  200/1000 Cost: 0.609259\n",
            "Epoch  300/1000 Cost: 0.551218\n",
            "Epoch  400/1000 Cost: 0.500141\n",
            "Epoch  500/1000 Cost: 0.451947\n",
            "Epoch  600/1000 Cost: 0.405051\n",
            "Epoch  700/1000 Cost: 0.358733\n",
            "Epoch  800/1000 Cost: 0.312912\n",
            "Epoch  900/1000 Cost: 0.269522\n",
            "Epoch 1000/1000 Cost: 0.241922\n"
          ]
        }
      ]
    }
  ]
}