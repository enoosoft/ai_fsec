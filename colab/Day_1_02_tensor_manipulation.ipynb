{
  "cells": [
    {
      "cell_type": "markdown",
      "metadata": {
        "colab_type": "text",
        "id": "view-in-github"
      },
      "source": [
        "<a href=\"https://colab.research.google.com/github/enoosoft/ai_fsec/blob/master/colab/Day_1_02_tensor_manipulation.ipynb\" target=\"_parent\"><img src=\"https://colab.research.google.com/assets/colab-badge.svg\" alt=\"Open In Colab\"/></a>"
      ]
    },
    {
      "cell_type": "markdown",
      "metadata": {
        "id": "oEDLKRlTlPPi"
      },
      "source": [
        "# Tensor Manipulation"
      ]
    },
    {
      "cell_type": "markdown",
      "metadata": {
        "id": "tQYErhH6n7i0"
      },
      "source": [
        "# Tensor\n",
        "텐서는 파이토치의 가장 기본이 되는 데이터 구조와 기능을 제공하는 다차원 배열을 처리하기 위한 데이터 구조입니다.\n",
        "\n",
        "![tensor image](https://wikidocs.net/images/page/52460/tensor1.PNG)"
      ]
    },
    {
      "cell_type": "code",
      "execution_count": 94,
      "metadata": {
        "id": "zSWA9b7clPPm"
      },
      "outputs": [],
      "source": [
        "import numpy as np\n",
        "import torch"
      ]
    },
    {
      "cell_type": "markdown",
      "metadata": {
        "id": "K8mxP0RllPPq"
      },
      "source": [
        "## NumPy Review"
      ]
    },
    {
      "cell_type": "markdown",
      "metadata": {
        "id": "Yps_XBPblPPr"
      },
      "source": [
        "### 1D Array with NumPy"
      ]
    },
    {
      "cell_type": "code",
      "execution_count": 95,
      "metadata": {
        "colab": {
          "base_uri": "https://localhost:8080/"
        },
        "id": "j_PWi-ezlPPr",
        "outputId": "fc35fe43-196a-49cf-d376-984f7a1c971e"
      },
      "outputs": [
        {
          "name": "stdout",
          "output_type": "stream",
          "text": [
            "[0. 1. 2. 3. 4. 5. 6.]\n"
          ]
        }
      ],
      "source": [
        "t = np.array([0., 1., 2., 3., 4., 5., 6.])\n",
        "print(t)"
      ]
    },
    {
      "cell_type": "code",
      "execution_count": 96,
      "metadata": {
        "colab": {
          "base_uri": "https://localhost:8080/"
        },
        "id": "JzXTl-lvlPPv",
        "outputId": "8f213684-e05e-422a-fcd5-89bc0a67902d"
      },
      "outputs": [
        {
          "name": "stdout",
          "output_type": "stream",
          "text": [
            "Rank  of t:  1\n",
            "Shape of t:  (7,)\n"
          ]
        }
      ],
      "source": [
        "print('Rank  of t: ', t.ndim)  # 차원수\n",
        "print('Shape of t: ', t.shape) # 요소 갯수"
      ]
    },
    {
      "cell_type": "code",
      "execution_count": 97,
      "metadata": {
        "colab": {
          "base_uri": "https://localhost:8080/"
        },
        "id": "nuGW3V-9lPPy",
        "outputId": "3fa3b438-036b-4861-d492-231b7cc745b2"
      },
      "outputs": [
        {
          "name": "stdout",
          "output_type": "stream",
          "text": [
            "t[0] t[1] t[-1] =  0.0 1.0 6.0\n",
            "t[2:5] t[4:-1]  =  [2. 3. 4.] [4. 5.]\n",
            "t[:2] t[3:]     =  [0. 1.] [3. 4. 5. 6.]\n"
          ]
        }
      ],
      "source": [
        "print('t[0] t[1] t[-1] = ', t[0], t[1], t[-1]) # Element\n",
        "print('t[2:5] t[4:-1]  = ', t[2:5], t[4:-1])   # Slicing. [a:b] b인덱스 바로 전까지 자른다\n",
        "print('t[:2] t[3:]     = ', t[:2], t[3:])      # Slicing. [:b] a가 비어있으면 처음부터. b가 없으면 끝까지 다."
      ]
    },
    {
      "cell_type": "markdown",
      "metadata": {
        "id": "aLlI4p3jlPP1"
      },
      "source": [
        "### 2D Array with NumPy"
      ]
    },
    {
      "cell_type": "code",
      "execution_count": 98,
      "metadata": {
        "colab": {
          "base_uri": "https://localhost:8080/"
        },
        "id": "A2TGD-tSlPP2",
        "outputId": "659bda7e-0db4-4cde-f243-aa196194b0fc"
      },
      "outputs": [
        {
          "name": "stdout",
          "output_type": "stream",
          "text": [
            "[[ 1.  2.  3.]\n",
            " [ 4.  5.  6.]\n",
            " [ 7.  8.  9.]\n",
            " [10. 11. 12.]]\n"
          ]
        }
      ],
      "source": [
        "t = np.array([[1., 2., 3.], [4., 5., 6.], [7., 8., 9.], [10., 11., 12.]])\n",
        "print(t)"
      ]
    },
    {
      "cell_type": "code",
      "execution_count": 99,
      "metadata": {
        "colab": {
          "base_uri": "https://localhost:8080/"
        },
        "id": "M_xs-htelPP4",
        "outputId": "408b7f64-9c5c-40ed-ed55-851cf9f9f603"
      },
      "outputs": [
        {
          "name": "stdout",
          "output_type": "stream",
          "text": [
            "Rank  of t:  2\n",
            "Shape of t:  (4, 3)\n"
          ]
        }
      ],
      "source": [
        "print('Rank  of t: ', t.ndim)\n",
        "print('Shape of t: ', t.shape)"
      ]
    },
    {
      "cell_type": "markdown",
      "metadata": {
        "id": "wpjLhA2slPP7"
      },
      "source": [
        "## PyTorch is like NumPy (but better)"
      ]
    },
    {
      "cell_type": "markdown",
      "metadata": {
        "id": "9jvzBaSIlPP7"
      },
      "source": [
        "### 1D Array with PyTorch"
      ]
    },
    {
      "cell_type": "code",
      "execution_count": 100,
      "metadata": {
        "colab": {
          "base_uri": "https://localhost:8080/"
        },
        "id": "Nok3t3oclPP8",
        "outputId": "91ceeed8-fac6-44c3-da98-92765d27ff3e"
      },
      "outputs": [
        {
          "name": "stdout",
          "output_type": "stream",
          "text": [
            "tensor([0., 1., 2., 3., 4., 5., 6.])\n"
          ]
        }
      ],
      "source": [
        "t = torch.FloatTensor([0., 1., 2., 3., 4., 5., 6.])\n",
        "print(t)"
      ]
    },
    {
      "cell_type": "code",
      "execution_count": 101,
      "metadata": {
        "colab": {
          "base_uri": "https://localhost:8080/"
        },
        "id": "M30nyyNvlPP-",
        "outputId": "895f95be-3628-4e14-f0b8-cf47caa74a64",
        "scrolled": true
      },
      "outputs": [
        {
          "name": "stdout",
          "output_type": "stream",
          "text": [
            "1\n",
            "torch.Size([7])\n",
            "torch.Size([7])\n",
            "tensor(0.) tensor(1.) tensor(6.)\n",
            "tensor([2., 3., 4.]) tensor([4., 5.])\n",
            "tensor([0., 1.]) tensor([3., 4., 5., 6.])\n"
          ]
        }
      ],
      "source": [
        "print(t.dim())  # rank\n",
        "print(t.shape)  # shape\n",
        "print(t.size()) # shape\n",
        "print(t[0], t[1], t[-1])  # Element\n",
        "print(t[2:5], t[4:-1])    # Slicing\n",
        "print(t[:2], t[3:])       # Slicing"
      ]
    },
    {
      "cell_type": "markdown",
      "metadata": {
        "id": "Hg28ty0GlPQD"
      },
      "source": [
        "### 2D Array with PyTorch\n",
        "- tensor 는 배열 및 행렬과 매우 유사한 특수 데이터 구조입니다. PyTorch에서는 tensor 를 사용하여 모델의 입력과 출력, 모델의 매개변수를 인코딩합니다.\n",
        "\n",
        "- tensor 는 GPU 또는 기타 특수 하드웨어에서 실행하여 컴퓨팅을 가속화할 수 있다는 점을 제외하고 NumPy의 ndarray와 유사합니다"
      ]
    },
    {
      "cell_type": "code",
      "execution_count": 102,
      "metadata": {
        "colab": {
          "base_uri": "https://localhost:8080/"
        },
        "id": "ahX6l-7DlPQE",
        "outputId": "e768aa59-f39c-4b0d-c876-b131b576cd72"
      },
      "outputs": [
        {
          "name": "stdout",
          "output_type": "stream",
          "text": [
            "tensor([[ 1.,  2.,  3.],\n",
            "        [ 4.,  5.,  6.],\n",
            "        [ 7.,  8.,  9.],\n",
            "        [10., 11., 12.]])\n"
          ]
        }
      ],
      "source": [
        "t = torch.FloatTensor([[1., 2., 3.],\n",
        "                       [4., 5., 6.],\n",
        "                       [7., 8., 9.],\n",
        "                       [10., 11., 12.]\n",
        "                      ])\n",
        "print(t)"
      ]
    },
    {
      "cell_type": "code",
      "execution_count": 103,
      "metadata": {
        "colab": {
          "base_uri": "https://localhost:8080/"
        },
        "id": "faczYnY1lPQG",
        "outputId": "c0036f4f-59dc-432d-c144-b05c1d745754"
      },
      "outputs": [
        {
          "name": "stdout",
          "output_type": "stream",
          "text": [
            "2\n",
            "torch.Size([4, 3])\n",
            "tensor([ 2.,  5.,  8., 11.])\n",
            "torch.Size([4])\n",
            "tensor([[ 1.,  2.],\n",
            "        [ 4.,  5.],\n",
            "        [ 7.,  8.],\n",
            "        [10., 11.]])\n"
          ]
        }
      ],
      "source": [
        "print(t.dim())  # rank\n",
        "print(t.size()) # shape\n",
        "print(t[:, 1])\n",
        "print(t[:, 1].size())\n",
        "print(t[:, :-1])"
      ]
    },
    {
      "cell_type": "markdown",
      "metadata": {
        "id": "aOvHPCU6lPQN"
      },
      "source": [
        "## Frequently Used Operations in PyTorch"
      ]
    },
    {
      "cell_type": "markdown",
      "metadata": {
        "id": "fxc0XnRLlPQN"
      },
      "source": [
        "### Mul vs. Matmul"
      ]
    },
    {
      "cell_type": "code",
      "execution_count": 104,
      "metadata": {
        "colab": {
          "base_uri": "https://localhost:8080/"
        },
        "id": "LXP5gbKqlPQO",
        "outputId": "b28c345d-b4ec-4757-f9d6-dd0df29b6326"
      },
      "outputs": [
        {
          "name": "stdout",
          "output_type": "stream",
          "text": [
            "\n",
            "-------------\n",
            "Mul vs Matmul\n",
            "-------------\n",
            "Shape of Matrix 1:  torch.Size([2, 2])\n",
            "Shape of Matrix 2:  torch.Size([2, 1])\n",
            "tensor([[ 5.],\n",
            "        [11.]])\n",
            "Shape of Matrix 1:  torch.Size([2, 2])\n",
            "Shape of Matrix 2:  torch.Size([2, 1])\n",
            "tensor([[1., 2.],\n",
            "        [6., 8.]])\n",
            "tensor([[1., 2.],\n",
            "        [6., 8.]])\n"
          ]
        }
      ],
      "source": [
        "print()\n",
        "print('-------------')\n",
        "print('Mul vs Matmul')\n",
        "print('-------------')\n",
        "m1 = torch.FloatTensor([[1, 2], [3, 4]])\n",
        "m2 = torch.FloatTensor([[1], [2]])\n",
        "print('Shape of Matrix 1: ', m1.shape) # 2 x 2\n",
        "print('Shape of Matrix 2: ', m2.shape) # 2 x 1\n",
        "print(m1.matmul(m2)) # 2 x 1\n",
        "\n",
        "m1 = torch.FloatTensor([[1, 2], [3, 4]])\n",
        "m2 = torch.FloatTensor([[1], [2]])\n",
        "print('Shape of Matrix 1: ', m1.shape) # 2 x 2\n",
        "print('Shape of Matrix 2: ', m2.shape) # 2 x 1\n",
        "print(m1 * m2) # 2 x 2\n",
        "print(m1.mul(m2))"
      ]
    },
    {
      "cell_type": "markdown",
      "metadata": {
        "id": "sWX_3XUvlPQQ"
      },
      "source": [
        "### Broadcasting"
      ]
    },
    {
      "cell_type": "markdown",
      "metadata": {
        "id": "AWQHVCaxJ0Kl"
      },
      "source": [
        "# 새 섹션"
      ]
    },
    {
      "cell_type": "markdown",
      "metadata": {
        "id": "an55sSIilPQQ"
      },
      "source": [
        "<div class=\"alert alert-warning\">\n",
        "    Carelessly using broadcasting can lead to code hard to debug.\n",
        "</div>"
      ]
    },
    {
      "cell_type": "code",
      "execution_count": 105,
      "metadata": {
        "colab": {
          "base_uri": "https://localhost:8080/"
        },
        "id": "hvbjGtmmlPQR",
        "outputId": "5c7ae0f9-7a03-46d5-dd8a-c648939d09cf"
      },
      "outputs": [
        {
          "name": "stdout",
          "output_type": "stream",
          "text": [
            "tensor([[5., 5.]])\n"
          ]
        }
      ],
      "source": [
        "# Same shape\n",
        "m1 = torch.FloatTensor([[3, 3]])\n",
        "m2 = torch.FloatTensor([[2, 2]])\n",
        "print(m1 + m2)"
      ]
    },
    {
      "cell_type": "code",
      "execution_count": 106,
      "metadata": {
        "colab": {
          "base_uri": "https://localhost:8080/"
        },
        "id": "xs35o3VmlPQU",
        "outputId": "40d2a096-3d68-436c-a949-96f8e4fae67d"
      },
      "outputs": [
        {
          "name": "stdout",
          "output_type": "stream",
          "text": [
            "tensor([[4., 5.]])\n"
          ]
        }
      ],
      "source": [
        "# Vector + scalar\n",
        "m1 = torch.FloatTensor([[1, 2]])\n",
        "m2 = torch.FloatTensor([3]) # 3 -> [[3, 3]]\n",
        "print(m1 + m2)"
      ]
    },
    {
      "cell_type": "code",
      "execution_count": 107,
      "metadata": {
        "colab": {
          "base_uri": "https://localhost:8080/"
        },
        "id": "l54WDJCxlPQX",
        "outputId": "27b15f38-5e3a-484e-8a83-ff69e5700de5"
      },
      "outputs": [
        {
          "name": "stdout",
          "output_type": "stream",
          "text": [
            "tensor([[4., 5.],\n",
            "        [5., 6.]])\n"
          ]
        }
      ],
      "source": [
        "# 2 x 1 Vector + 1 x 2 Vector\n",
        "m1 = torch.FloatTensor([[1, 2]])\n",
        "m2 = torch.FloatTensor([[3], [4]])\n",
        "print(m1 + m2)"
      ]
    },
    {
      "cell_type": "markdown",
      "metadata": {
        "id": "TOeYK5WplPQZ"
      },
      "source": [
        "### Mean"
      ]
    },
    {
      "cell_type": "code",
      "execution_count": 108,
      "metadata": {
        "colab": {
          "base_uri": "https://localhost:8080/"
        },
        "id": "H2yws_yjlPQZ",
        "outputId": "4b0ccd23-f85f-40f5-ef55-514ba55b0be4"
      },
      "outputs": [
        {
          "name": "stdout",
          "output_type": "stream",
          "text": [
            "tensor(1.5000)\n"
          ]
        }
      ],
      "source": [
        "t = torch.FloatTensor([1, 2])\n",
        "print(t.mean())"
      ]
    },
    {
      "cell_type": "code",
      "execution_count": 109,
      "metadata": {
        "colab": {
          "base_uri": "https://localhost:8080/"
        },
        "id": "uM9PP1p1lPQb",
        "outputId": "5a593ffd-7ad1-4cd8-e045-71c4fe01a385"
      },
      "outputs": [
        {
          "name": "stdout",
          "output_type": "stream",
          "text": [
            "mean(): could not infer output dtype. Input dtype must be either a floating point or complex dtype. Got: Long\n"
          ]
        }
      ],
      "source": [
        "# Can't use mean() on integers\n",
        "t = torch.LongTensor([1, 2])\n",
        "try:\n",
        "    print(t.mean())\n",
        "except Exception as exc:\n",
        "    print(exc)"
      ]
    },
    {
      "cell_type": "markdown",
      "metadata": {
        "id": "zJ7QdhXMlPQd"
      },
      "source": [
        "You can also use `t.mean` for higher rank tensors to get mean of all elements, or mean by particular dimension."
      ]
    },
    {
      "cell_type": "code",
      "execution_count": 110,
      "metadata": {
        "colab": {
          "base_uri": "https://localhost:8080/"
        },
        "id": "5gjGexNZlPQd",
        "outputId": "1f53769b-29d3-4b75-db30-9751e10b9332"
      },
      "outputs": [
        {
          "name": "stdout",
          "output_type": "stream",
          "text": [
            "tensor([[1., 2.],\n",
            "        [3., 4.]])\n"
          ]
        }
      ],
      "source": [
        "t = torch.FloatTensor([[1, 2], [3, 4]])\n",
        "print(t)"
      ]
    },
    {
      "cell_type": "code",
      "execution_count": 111,
      "metadata": {
        "colab": {
          "base_uri": "https://localhost:8080/"
        },
        "id": "WlqLBWK8lPQf",
        "outputId": "2dd0822b-a4dc-45b2-9ef7-708dfdbfd769"
      },
      "outputs": [
        {
          "name": "stdout",
          "output_type": "stream",
          "text": [
            "tensor(2.5000)\n",
            "tensor([2., 3.])\n",
            "tensor([1.5000, 3.5000])\n",
            "tensor([1.5000, 3.5000])\n"
          ]
        }
      ],
      "source": [
        "print(t.mean())\n",
        "print(t.mean(dim=0))\n",
        "print(t.mean(dim=1))\n",
        "print(t.mean(dim=-1))"
      ]
    },
    {
      "cell_type": "markdown",
      "metadata": {
        "id": "IdupB1P0lPQh"
      },
      "source": [
        "### Sum"
      ]
    },
    {
      "cell_type": "code",
      "execution_count": 112,
      "metadata": {
        "colab": {
          "base_uri": "https://localhost:8080/"
        },
        "id": "-u6BdjgelPQh",
        "outputId": "e0823dbd-7ba3-4ea7-8a78-af1aa1760807"
      },
      "outputs": [
        {
          "name": "stdout",
          "output_type": "stream",
          "text": [
            "tensor([[1., 2.],\n",
            "        [3., 4.]])\n"
          ]
        }
      ],
      "source": [
        "t = torch.FloatTensor([[1, 2], [3, 4]])\n",
        "print(t)"
      ]
    },
    {
      "cell_type": "code",
      "execution_count": 113,
      "metadata": {
        "colab": {
          "base_uri": "https://localhost:8080/"
        },
        "id": "EWtcz_nQlPQk",
        "outputId": "d09f48cf-c544-477a-83c0-866485d90a76"
      },
      "outputs": [
        {
          "name": "stdout",
          "output_type": "stream",
          "text": [
            "tensor(10.)\n",
            "tensor([4., 6.])\n",
            "tensor([3., 7.])\n",
            "tensor([3., 7.])\n"
          ]
        }
      ],
      "source": [
        "print(t.sum())\n",
        "print(t.sum(dim=0))  # 행기준 합\n",
        "print(t.sum(dim=1))  # 열기준 합\n",
        "print(t.sum(dim=-1)) # 마지막차원(열)기준 합"
      ]
    },
    {
      "cell_type": "markdown",
      "metadata": {
        "id": "osTJ2MtjlPQm"
      },
      "source": [
        "### Max and Argmax"
      ]
    },
    {
      "cell_type": "code",
      "execution_count": 114,
      "metadata": {
        "colab": {
          "base_uri": "https://localhost:8080/"
        },
        "id": "a8TeZ0c3lPQm",
        "outputId": "41569538-a757-4aa4-ddcd-b0b15272fc55"
      },
      "outputs": [
        {
          "name": "stdout",
          "output_type": "stream",
          "text": [
            "tensor([[1., 2.],\n",
            "        [3., 4.]])\n"
          ]
        }
      ],
      "source": [
        "t = torch.FloatTensor([[1, 2], [3, 4]])\n",
        "print(t)"
      ]
    },
    {
      "cell_type": "markdown",
      "metadata": {
        "id": "eQRi2U99lPQo"
      },
      "source": [
        "The `max` operator returns one value if it is called without an argument."
      ]
    },
    {
      "cell_type": "code",
      "execution_count": 115,
      "metadata": {
        "colab": {
          "base_uri": "https://localhost:8080/"
        },
        "id": "vWy0uN3flPQo",
        "outputId": "c49f4dd2-a531-48e2-ffbb-d92def268c1f"
      },
      "outputs": [
        {
          "name": "stdout",
          "output_type": "stream",
          "text": [
            "tensor(4.)\n"
          ]
        }
      ],
      "source": [
        "print(t.max()) # Returns one value: max"
      ]
    },
    {
      "cell_type": "markdown",
      "metadata": {
        "id": "SOiofvbdlPQq"
      },
      "source": [
        "The `max` operator returns 2 values when called with dimension specified. The first value is the maximum value, and the second value is the argmax: the index of the element with maximum value."
      ]
    },
    {
      "cell_type": "code",
      "execution_count": 116,
      "metadata": {
        "colab": {
          "base_uri": "https://localhost:8080/"
        },
        "id": "8n2VvUowlPQr",
        "outputId": "638d3d05-7aae-4d03-be4c-fbd7fce6a312"
      },
      "outputs": [
        {
          "name": "stdout",
          "output_type": "stream",
          "text": [
            "torch.return_types.max(\n",
            "values=tensor([3., 4.]),\n",
            "indices=tensor([1, 1]))\n",
            "Max:  tensor([3., 4.])\n",
            "Argmax:  tensor([1, 1])\n"
          ]
        }
      ],
      "source": [
        "print(t.max(dim=0)) # Returns two values: max and argmax\n",
        "print('Max: ', t.max(dim=0)[0])\n",
        "print('Argmax: ', t.max(dim=0)[1]) # 위치인덱스(좌표)"
      ]
    },
    {
      "cell_type": "code",
      "execution_count": 117,
      "metadata": {
        "colab": {
          "base_uri": "https://localhost:8080/"
        },
        "id": "WI6s9vQ4lPQs",
        "outputId": "a7251d8b-6075-4e7e-80fc-d967b6ba04ce"
      },
      "outputs": [
        {
          "name": "stdout",
          "output_type": "stream",
          "text": [
            "torch.return_types.max(\n",
            "values=tensor([2., 4.]),\n",
            "indices=tensor([1, 1]))\n",
            "torch.return_types.max(\n",
            "values=tensor([2., 4.]),\n",
            "indices=tensor([1, 1]))\n"
          ]
        }
      ],
      "source": [
        "print(t.max(dim=1))\n",
        "print(t.max(dim=-1))"
      ]
    },
    {
      "cell_type": "markdown",
      "metadata": {
        "id": "UlBO6iQHlPQv"
      },
      "source": [
        "### View"
      ]
    },
    {
      "cell_type": "markdown",
      "metadata": {
        "id": "sBMjGtHNlPQw"
      },
      "source": [
        "<div class=\"alert alert-warning\">\n",
        "    This is a function hard to master, but is very useful!\n",
        "</div>"
      ]
    },
    {
      "cell_type": "code",
      "execution_count": 118,
      "metadata": {
        "colab": {
          "base_uri": "https://localhost:8080/"
        },
        "id": "p95pipM4lPQw",
        "outputId": "819aa572-e8d9-485f-f8b1-e7d2a024631b"
      },
      "outputs": [
        {
          "name": "stdout",
          "output_type": "stream",
          "text": [
            "torch.Size([2, 2, 3])\n"
          ]
        }
      ],
      "source": [
        "t = np.array([[[0, 1, 2],\n",
        "               [3, 4, 5]], # 2x3x2 3D matrix\n",
        "\n",
        "              [[6, 7, 8],\n",
        "               [9, 10, 11]]])\n",
        "ft = torch.FloatTensor(t)\n",
        "print(ft.shape)"
      ]
    },
    {
      "cell_type": "code",
      "execution_count": 119,
      "metadata": {
        "colab": {
          "base_uri": "https://localhost:8080/"
        },
        "id": "dQkSnydSlPQy",
        "outputId": "53e44e09-95bf-490b-d7ad-515b2f0ec3e8"
      },
      "outputs": [
        {
          "name": "stdout",
          "output_type": "stream",
          "text": [
            "tensor([[ 0.,  1.,  2.],\n",
            "        [ 3.,  4.,  5.],\n",
            "        [ 6.,  7.,  8.],\n",
            "        [ 9., 10., 11.]])\n",
            "torch.Size([4, 3])\n"
          ]
        }
      ],
      "source": [
        "print(ft.view([-1, 3]))\n",
        "print(ft.view([-1, 3]).shape)"
      ]
    },
    {
      "cell_type": "code",
      "execution_count": 120,
      "metadata": {
        "colab": {
          "base_uri": "https://localhost:8080/"
        },
        "id": "9FwA_V9alPQ0",
        "outputId": "a800c254-f295-4f30-f188-ae749e11ab39"
      },
      "outputs": [
        {
          "name": "stdout",
          "output_type": "stream",
          "text": [
            "tensor([[[ 0.,  1.,  2.]],\n",
            "\n",
            "        [[ 3.,  4.,  5.]],\n",
            "\n",
            "        [[ 6.,  7.,  8.]],\n",
            "\n",
            "        [[ 9., 10., 11.]]])\n",
            "torch.Size([4, 1, 3])\n"
          ]
        }
      ],
      "source": [
        "print(ft.view([-1, 1, 3]))\n",
        "print(ft.view([-1, 1, 3]).shape)"
      ]
    },
    {
      "cell_type": "markdown",
      "metadata": {
        "id": "A6oVJxi2lPQ1"
      },
      "source": [
        "### Squeeze"
      ]
    },
    {
      "cell_type": "code",
      "execution_count": 121,
      "metadata": {
        "colab": {
          "base_uri": "https://localhost:8080/"
        },
        "id": "He_e6eBhlPQ2",
        "outputId": "b8bf64fb-1faa-4dc1-cc6a-3aa08340eca2"
      },
      "outputs": [
        {
          "name": "stdout",
          "output_type": "stream",
          "text": [
            "tensor([[0.],\n",
            "        [1.],\n",
            "        [2.]])\n",
            "torch.Size([3, 1])\n"
          ]
        }
      ],
      "source": [
        "ft = torch.FloatTensor([[0], [1], [2]])\n",
        "print(ft)\n",
        "print(ft.shape)"
      ]
    },
    {
      "cell_type": "code",
      "execution_count": 122,
      "metadata": {
        "colab": {
          "base_uri": "https://localhost:8080/"
        },
        "id": "nqMf_LqslPQ4",
        "outputId": "42f760b7-8889-43c3-daa5-1182dd5874a4"
      },
      "outputs": [
        {
          "name": "stdout",
          "output_type": "stream",
          "text": [
            "tensor([0., 1., 2.])\n",
            "torch.Size([3])\n"
          ]
        }
      ],
      "source": [
        "print(ft.squeeze())\n",
        "print(ft.squeeze().shape)"
      ]
    },
    {
      "cell_type": "markdown",
      "metadata": {
        "id": "DIgH9U2elPQ5"
      },
      "source": [
        "### Unsqueeze"
      ]
    },
    {
      "cell_type": "code",
      "execution_count": 123,
      "metadata": {
        "colab": {
          "base_uri": "https://localhost:8080/"
        },
        "id": "GtCBv8rIlPQ6",
        "outputId": "6b085e67-4e7f-4333-847c-24dbd5ea41ae"
      },
      "outputs": [
        {
          "name": "stdout",
          "output_type": "stream",
          "text": [
            "torch.Size([3])\n"
          ]
        }
      ],
      "source": [
        "ft = torch.Tensor([0, 1, 2])\n",
        "print(ft.shape)"
      ]
    },
    {
      "cell_type": "code",
      "execution_count": 124,
      "metadata": {
        "colab": {
          "base_uri": "https://localhost:8080/"
        },
        "id": "nliaomC5lPQ8",
        "outputId": "d67df0e1-81d5-45e2-98bf-18a23007ee10"
      },
      "outputs": [
        {
          "name": "stdout",
          "output_type": "stream",
          "text": [
            "tensor([[0., 1., 2.]])\n",
            "torch.Size([1, 3])\n"
          ]
        }
      ],
      "source": [
        "print(ft.unsqueeze(0))\n",
        "print(ft.unsqueeze(0).shape)"
      ]
    },
    {
      "cell_type": "code",
      "execution_count": 125,
      "metadata": {
        "colab": {
          "base_uri": "https://localhost:8080/"
        },
        "id": "seFOCqdslPQ-",
        "outputId": "fa04f223-e93b-40ac-8515-83ae2f5d93c4"
      },
      "outputs": [
        {
          "name": "stdout",
          "output_type": "stream",
          "text": [
            "tensor([[0., 1., 2.]])\n",
            "torch.Size([1, 3])\n"
          ]
        }
      ],
      "source": [
        "print(ft.view(1, -1))\n",
        "print(ft.view(1, -1).shape)"
      ]
    },
    {
      "cell_type": "code",
      "execution_count": 126,
      "metadata": {
        "colab": {
          "base_uri": "https://localhost:8080/"
        },
        "id": "xs6xSP5mlPRA",
        "outputId": "3dd7f603-aaa4-4ee1-a0c1-0892f39d8720"
      },
      "outputs": [
        {
          "name": "stdout",
          "output_type": "stream",
          "text": [
            "tensor([[0.],\n",
            "        [1.],\n",
            "        [2.]])\n",
            "torch.Size([3, 1])\n"
          ]
        }
      ],
      "source": [
        "print(ft.unsqueeze(1))\n",
        "print(ft.unsqueeze(1).shape)"
      ]
    },
    {
      "cell_type": "code",
      "execution_count": 127,
      "metadata": {
        "colab": {
          "base_uri": "https://localhost:8080/"
        },
        "id": "muFLbwnolPRC",
        "outputId": "297da40e-68fc-433f-bec2-402e6613b05f"
      },
      "outputs": [
        {
          "name": "stdout",
          "output_type": "stream",
          "text": [
            "tensor([[0.],\n",
            "        [1.],\n",
            "        [2.]])\n",
            "torch.Size([3, 1])\n"
          ]
        }
      ],
      "source": [
        "print(ft.unsqueeze(-1))\n",
        "print(ft.unsqueeze(-1).shape)"
      ]
    },
    {
      "cell_type": "markdown",
      "metadata": {
        "id": "3mOpARYilPRF"
      },
      "source": [
        "### Scatter (for one-hot encoding)"
      ]
    },
    {
      "cell_type": "markdown",
      "metadata": {
        "id": "Ymq6rB9JlPRF"
      },
      "source": [
        "<div class=\"alert alert-warning\">\n",
        "    Scatter is a very flexible function. We only discuss how to use it to get a one-hot encoding of indices.\n",
        "</div>"
      ]
    },
    {
      "cell_type": "code",
      "execution_count": 149,
      "metadata": {
        "colab": {
          "base_uri": "https://localhost:8080/"
        },
        "id": "Oqxf396elPRF",
        "outputId": "d9c88dc3-4e52-44a1-9b58-1b4d3ff4b559"
      },
      "outputs": [
        {
          "name": "stdout",
          "output_type": "stream",
          "text": [
            "tensor([[0],\n",
            "        [1],\n",
            "        [2],\n",
            "        [0]])\n"
          ]
        }
      ],
      "source": [
        "lt = torch.LongTensor([[0], [1], [2], [0]])\n",
        "print(lt)"
      ]
    },
    {
      "cell_type": "code",
      "execution_count": 157,
      "metadata": {
        "colab": {
          "base_uri": "https://localhost:8080/"
        },
        "id": "hbedeZEClPRH",
        "outputId": "01e1f5c7-3e14-4196-9ef0-7b6ef0eb3601"
      },
      "outputs": [
        {
          "name": "stdout",
          "output_type": "stream",
          "text": [
            "tensor([[0., 0., 0.],\n",
            "        [0., 0., 0.],\n",
            "        [0., 0., 0.],\n",
            "        [0., 0., 0.]])\n",
            "tensor([[9., 0., 0.],\n",
            "        [0., 9., 0.],\n",
            "        [0., 0., 9.],\n",
            "        [9., 0., 0.]])\n"
          ]
        }
      ],
      "source": [
        "one_hot = torch.zeros(4, 3) # batch_size = 4 건, classes = 3 종 초기화\n",
        "print(one_hot)\n",
        "one_hot.scatter_(1, lt, 9)  # 라디오 버튼처럼 배타적으로 한개만 선택하는 인코딩\n",
        "print(one_hot)"
      ]
    },
    {
      "cell_type": "markdown",
      "metadata": {
        "id": "znAu4pXOlPRK"
      },
      "source": [
        "### Casting"
      ]
    },
    {
      "cell_type": "code",
      "execution_count": 158,
      "metadata": {
        "colab": {
          "base_uri": "https://localhost:8080/"
        },
        "id": "UKD_hWy6lPRL",
        "outputId": "e208bf2c-3760-48af-e616-b1e8c98f1f73"
      },
      "outputs": [
        {
          "name": "stdout",
          "output_type": "stream",
          "text": [
            "tensor([1, 2, 3, 4])\n"
          ]
        }
      ],
      "source": [
        "lt = torch.LongTensor([1, 2, 3, 4])\n",
        "print(lt)"
      ]
    },
    {
      "cell_type": "code",
      "execution_count": 159,
      "metadata": {
        "colab": {
          "base_uri": "https://localhost:8080/"
        },
        "id": "cT5xFaOclPRN",
        "outputId": "7cff3766-2f28-454a-8c7e-4ed41ce1fba9"
      },
      "outputs": [
        {
          "name": "stdout",
          "output_type": "stream",
          "text": [
            "tensor([1., 2., 3., 4.])\n"
          ]
        }
      ],
      "source": [
        "print(lt.float())"
      ]
    },
    {
      "cell_type": "code",
      "execution_count": 160,
      "metadata": {
        "colab": {
          "base_uri": "https://localhost:8080/"
        },
        "id": "07BeeZ1RlPRQ",
        "outputId": "59c01d29-cb64-475e-ad4f-7bd1e8291f4f"
      },
      "outputs": [
        {
          "name": "stdout",
          "output_type": "stream",
          "text": [
            "tensor([1, 0, 0, 1], dtype=torch.uint8)\n"
          ]
        }
      ],
      "source": [
        "bt = torch.ByteTensor([True, False, False, True])\n",
        "print(bt)"
      ]
    },
    {
      "cell_type": "code",
      "execution_count": 161,
      "metadata": {
        "colab": {
          "base_uri": "https://localhost:8080/"
        },
        "id": "QfWiGZ3-lPRR",
        "outputId": "d5df719d-50f3-486c-b63c-5d392b24c462"
      },
      "outputs": [
        {
          "name": "stdout",
          "output_type": "stream",
          "text": [
            "tensor([1, 0, 0, 1])\n",
            "tensor([1., 0., 0., 1.])\n"
          ]
        }
      ],
      "source": [
        "print(bt.long())\n",
        "print(bt.float())"
      ]
    },
    {
      "cell_type": "markdown",
      "metadata": {
        "id": "kX_AUc8FlPRT"
      },
      "source": [
        "### Concatenation"
      ]
    },
    {
      "cell_type": "code",
      "execution_count": 162,
      "metadata": {
        "id": "p4sC2YhUlPRU"
      },
      "outputs": [],
      "source": [
        "x = torch.FloatTensor([[1, 2], [3, 4]])\n",
        "y = torch.FloatTensor([[5, 6], [7, 8]])"
      ]
    },
    {
      "cell_type": "code",
      "execution_count": 164,
      "metadata": {
        "colab": {
          "base_uri": "https://localhost:8080/"
        },
        "id": "v79l0rqllPRV",
        "outputId": "d4a20593-8db1-4d95-e58a-923db9a704b9"
      },
      "outputs": [
        {
          "name": "stdout",
          "output_type": "stream",
          "text": [
            "tensor([[1., 2.],\n",
            "        [3., 4.],\n",
            "        [5., 6.],\n",
            "        [7., 8.]])\n",
            "tensor([[1., 2., 5., 6.],\n",
            "        [3., 4., 7., 8.]])\n"
          ]
        }
      ],
      "source": [
        "print(torch.cat([x, y], dim=0))\n",
        "print(torch.cat([x, y], dim=1))"
      ]
    },
    {
      "cell_type": "markdown",
      "metadata": {
        "id": "9gC8wTLqlPRX"
      },
      "source": [
        "### Stacking"
      ]
    },
    {
      "cell_type": "code",
      "execution_count": 136,
      "metadata": {
        "id": "1Hl7UToIlPRX"
      },
      "outputs": [],
      "source": [
        "x = torch.FloatTensor([1, 4])\n",
        "y = torch.FloatTensor([2, 5])\n",
        "z = torch.FloatTensor([3, 6])"
      ]
    },
    {
      "cell_type": "code",
      "execution_count": 137,
      "metadata": {
        "colab": {
          "base_uri": "https://localhost:8080/"
        },
        "id": "pUEhVNGclPRZ",
        "outputId": "01ef9b9f-58c8-48ed-9a8b-e1276298d7cd"
      },
      "outputs": [
        {
          "name": "stdout",
          "output_type": "stream",
          "text": [
            "tensor([[1., 4.],\n",
            "        [2., 5.],\n",
            "        [3., 6.]])\n",
            "tensor([[1., 2., 3.],\n",
            "        [4., 5., 6.]])\n"
          ]
        }
      ],
      "source": [
        "print(torch.stack([x, y, z]))\n",
        "print(torch.stack([x, y, z], dim=1))"
      ]
    },
    {
      "cell_type": "code",
      "execution_count": 138,
      "metadata": {
        "colab": {
          "base_uri": "https://localhost:8080/"
        },
        "id": "1n6Gz2EplPRc",
        "outputId": "2ea2ce2f-787f-44ac-f771-0815c7afcbc2"
      },
      "outputs": [
        {
          "name": "stdout",
          "output_type": "stream",
          "text": [
            "tensor([[1., 4.],\n",
            "        [2., 5.],\n",
            "        [3., 6.]])\n"
          ]
        }
      ],
      "source": [
        "print(torch.cat([x.unsqueeze(0), y.unsqueeze(0), z.unsqueeze(0)], dim=0))"
      ]
    },
    {
      "cell_type": "markdown",
      "metadata": {
        "id": "pF7wrhgjlPRd"
      },
      "source": [
        "### Ones and Zeros Like"
      ]
    },
    {
      "cell_type": "code",
      "execution_count": 139,
      "metadata": {
        "colab": {
          "base_uri": "https://localhost:8080/"
        },
        "id": "d0_2ZUWWlPRe",
        "outputId": "41120b66-643b-4bd9-c478-4c2d5809a9d7"
      },
      "outputs": [
        {
          "name": "stdout",
          "output_type": "stream",
          "text": [
            "tensor([[0., 1., 2.],\n",
            "        [2., 1., 0.]])\n"
          ]
        }
      ],
      "source": [
        "x = torch.FloatTensor([[0, 1, 2], [2, 1, 0]])\n",
        "print(x)"
      ]
    },
    {
      "cell_type": "code",
      "execution_count": 140,
      "metadata": {
        "colab": {
          "base_uri": "https://localhost:8080/"
        },
        "id": "Tu0HBiWclPRi",
        "outputId": "42c20bc2-e28b-4abf-aec3-3a656a7eb869"
      },
      "outputs": [
        {
          "name": "stdout",
          "output_type": "stream",
          "text": [
            "tensor([[1., 1., 1.],\n",
            "        [1., 1., 1.]])\n",
            "tensor([[0., 0., 0.],\n",
            "        [0., 0., 0.]])\n"
          ]
        }
      ],
      "source": [
        "print(torch.ones_like(x))\n",
        "print(torch.zeros_like(x))"
      ]
    },
    {
      "cell_type": "markdown",
      "metadata": {
        "id": "XWGKnj3hlPRn"
      },
      "source": [
        "### In-place Operation"
      ]
    },
    {
      "cell_type": "code",
      "execution_count": 141,
      "metadata": {
        "id": "VQ7lxQAtlPRn"
      },
      "outputs": [],
      "source": [
        "x = torch.FloatTensor([[1, 2], [3, 4]])"
      ]
    },
    {
      "cell_type": "code",
      "execution_count": 142,
      "metadata": {
        "colab": {
          "base_uri": "https://localhost:8080/"
        },
        "id": "2ic9czoqlPRq",
        "outputId": "2f260ad1-0250-408f-ef76-55cbe7f60841"
      },
      "outputs": [
        {
          "name": "stdout",
          "output_type": "stream",
          "text": [
            "tensor([[2., 4.],\n",
            "        [6., 8.]])\n",
            "tensor([[1., 2.],\n",
            "        [3., 4.]])\n",
            "tensor([[2., 4.],\n",
            "        [6., 8.]])\n",
            "tensor([[2., 4.],\n",
            "        [6., 8.]])\n"
          ]
        }
      ],
      "source": [
        "print(x.mul(2.))\n",
        "print(x)\n",
        "print(x.mul_(2.))\n",
        "print(x)"
      ]
    },
    {
      "cell_type": "markdown",
      "metadata": {
        "id": "Rbik_EMllPRs"
      },
      "source": [
        "## Miscellaneous"
      ]
    },
    {
      "cell_type": "markdown",
      "metadata": {
        "id": "qe_orTFalPRs"
      },
      "source": [
        "### Zip"
      ]
    },
    {
      "cell_type": "code",
      "execution_count": 143,
      "metadata": {
        "colab": {
          "base_uri": "https://localhost:8080/"
        },
        "id": "p6fPbVF9lPRs",
        "outputId": "409247e9-53d5-44cd-bba8-13af8da532ff"
      },
      "outputs": [
        {
          "name": "stdout",
          "output_type": "stream",
          "text": [
            "1 4\n",
            "2 5\n",
            "3 6\n"
          ]
        }
      ],
      "source": [
        "for x, y in zip([1, 2, 3], [4, 5, 6]):\n",
        "    print(x, y)"
      ]
    },
    {
      "cell_type": "code",
      "execution_count": 144,
      "metadata": {
        "colab": {
          "base_uri": "https://localhost:8080/"
        },
        "id": "gICJV3ZPlPRu",
        "outputId": "552b286e-a530-43cc-c88c-42cc2bc6dd22"
      },
      "outputs": [
        {
          "name": "stdout",
          "output_type": "stream",
          "text": [
            "1 4 7\n",
            "2 5 8\n",
            "3 6 9\n"
          ]
        }
      ],
      "source": [
        "for x, y, z in zip([1, 2, 3], [4, 5, 6], [7, 8, 9]):\n",
        "    print(x, y, z)"
      ]
    }
  ],
  "metadata": {
    "colab": {
      "collapsed_sections": [
        "sWX_3XUvlPQQ",
        "TOeYK5WplPQZ"
      ],
      "include_colab_link": true,
      "name": "Day 1_02.tensor_manipulation.ipynb",
      "provenance": [],
      "toc_visible": true
    },
    "kernelspec": {
      "display_name": "Python 3.10.1 64-bit ('3.10.1')",
      "language": "python",
      "name": "python3"
    },
    "language_info": {
      "codemirror_mode": {
        "name": "ipython",
        "version": 3
      },
      "file_extension": ".py",
      "mimetype": "text/x-python",
      "name": "python",
      "nbconvert_exporter": "python",
      "pygments_lexer": "ipython3",
      "version": "3.10.1"
    },
    "vscode": {
      "interpreter": {
        "hash": "6fb940f28cdeb4d0f3efab4ebcd10cc33ac5350c399a7abce4fc298ff5aecbb2"
      }
    }
  },
  "nbformat": 4,
  "nbformat_minor": 0
}
