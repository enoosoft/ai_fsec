{
  "nbformat": 4,
  "nbformat_minor": 0,
  "metadata": {
    "kernelspec": {
      "display_name": "Python 3",
      "language": "python",
      "name": "python3"
    },
    "language_info": {
      "codemirror_mode": {
        "name": "ipython",
        "version": 3
      },
      "file_extension": ".py",
      "mimetype": "text/x-python",
      "name": "python",
      "nbconvert_exporter": "python",
      "pygments_lexer": "ipython3",
      "version": "3.5.3"
    },
    "colab": {
      "name": "Day 3_04.xor_nn_wide_deep.ipynb",
      "provenance": [],
      "collapsed_sections": [],
      "include_colab_link": true
    }
  },
  "cells": [
    {
      "cell_type": "markdown",
      "metadata": {
        "id": "view-in-github",
        "colab_type": "text"
      },
      "source": [
        "<a href=\"https://colab.research.google.com/github/enoosoft/ai_fsec/blob/master/colab/Day_3_04_xor_nn_wide_deep.ipynb\" target=\"_parent\"><img src=\"https://colab.research.google.com/assets/colab-badge.svg\" alt=\"Open In Colab\"/></a>"
      ]
    },
    {
      "cell_type": "code",
      "metadata": {
        "id": "2m-J_ATtaxh2"
      },
      "source": [
        "# Lab 9 XOR\n",
        "import torch"
      ],
      "execution_count": 9,
      "outputs": []
    },
    {
      "cell_type": "code",
      "metadata": {
        "id": "GyrVZOu8axh3"
      },
      "source": [
        "device = 'cuda' if torch.cuda.is_available() else 'cpu'\n",
        "\n",
        "# for reproducibility\n",
        "torch.manual_seed(777)\n",
        "if device == 'cuda':\n",
        "    torch.cuda.manual_seed_all(777)"
      ],
      "execution_count": 10,
      "outputs": []
    },
    {
      "cell_type": "code",
      "metadata": {
        "id": "BV7OdTyiaxh3"
      },
      "source": [
        "X = torch.FloatTensor([[0, 0], [0, 1], [1, 0], [1, 1]]).to(device)\n",
        "Y = torch.FloatTensor([[0], [1], [1], [0]]).to(device)"
      ],
      "execution_count": 11,
      "outputs": []
    },
    {
      "cell_type": "code",
      "metadata": {
        "id": "COexzYYkaxh3"
      },
      "source": [
        "# nn layers\n",
        "linear1 = torch.nn.Linear(2, 10, bias=True) # 입력층 2개 -> 10개\n",
        "linear2 = torch.nn.Linear(10, 10, bias=True) # 은닉층1 10개 -> 10개\n",
        "linear3 = torch.nn.Linear(10, 10, bias=True) # 은닉층2 10개 -> 10개\n",
        "linear4 = torch.nn.Linear(10, 1, bias=True) # 은닉층3 10개 -> 1개\n",
        "sigmoid = torch.nn.Sigmoid()"
      ],
      "execution_count": 12,
      "outputs": []
    },
    {
      "cell_type": "code",
      "metadata": {
        "id": "FovF5jTKaxh3"
      },
      "source": [
        "# model\n",
        "model = torch.nn.Sequential(linear1, sigmoid, linear2, sigmoid, linear3, sigmoid, linear4, sigmoid).to(device) # linear1 + sigmoid + linear2 + sigmoid + linear3 + sigmoid + linear4 + sigmoid"
      ],
      "execution_count": 13,
      "outputs": []
    },
    {
      "cell_type": "code",
      "metadata": {
        "id": "TLw7ZR4Haxh3"
      },
      "source": [
        "# define cost/loss & optimizer\n",
        "criterion = torch.nn.BCELoss().to(device)\n",
        "optimizer = torch.optim.SGD(model.parameters(), lr=1)  # modified learning rate from 0.1 to 1"
      ],
      "execution_count": 14,
      "outputs": []
    },
    {
      "cell_type": "code",
      "metadata": {
        "colab": {
          "base_uri": "https://localhost:8080/"
        },
        "id": "eeJC3_t9axh3",
        "outputId": "476c2a6b-fa75-4539-8b3d-a2b0723deb4d"
      },
      "source": [
        "for step in range(10001):\n",
        "    optimizer.zero_grad()\n",
        "    hypothesis = model(X)\n",
        "\n",
        "    # cost/loss function\n",
        "    cost = criterion(hypothesis, Y)\n",
        "    cost.backward()\n",
        "    optimizer.step()\n",
        "\n",
        "    if step % 100 == 0:\n",
        "        print(step, cost.item())"
      ],
      "execution_count": 15,
      "outputs": [
        {
          "output_type": "stream",
          "name": "stdout",
          "text": [
            "0 0.6935425996780396\n",
            "100 0.6931440830230713\n",
            "200 0.6931434869766235\n",
            "300 0.6931428909301758\n",
            "400 0.693142294883728\n",
            "500 0.693141758441925\n",
            "600 0.6931412220001221\n",
            "700 0.6931405067443848\n",
            "800 0.6931398510932922\n",
            "900 0.6931392550468445\n",
            "1000 0.6931385397911072\n",
            "1100 0.6931378841400146\n",
            "1200 0.6931370496749878\n",
            "1300 0.6931362152099609\n",
            "1400 0.6931353807449341\n",
            "1500 0.6931345462799072\n",
            "1600 0.6931337118148804\n",
            "1700 0.693132758140564\n",
            "1800 0.693131685256958\n",
            "1900 0.6931305527687073\n",
            "2000 0.6931294202804565\n",
            "2100 0.6931283473968506\n",
            "2200 0.6931268572807312\n",
            "2300 0.6931254267692566\n",
            "2400 0.693123996257782\n",
            "2500 0.693122386932373\n",
            "2600 0.6931207180023193\n",
            "2700 0.6931188106536865\n",
            "2800 0.6931166648864746\n",
            "2900 0.6931145787239075\n",
            "3000 0.6931121349334717\n",
            "3100 0.6931095123291016\n",
            "3200 0.6931065917015076\n",
            "3300 0.6931033730506897\n",
            "3400 0.6930997967720032\n",
            "3500 0.6930958032608032\n",
            "3600 0.6930913925170898\n",
            "3700 0.6930865049362183\n",
            "3800 0.6930809020996094\n",
            "3900 0.6930745840072632\n",
            "4000 0.6930674314498901\n",
            "4100 0.6930591464042664\n",
            "4200 0.6930496096611023\n",
            "4300 0.6930384635925293\n",
            "4400 0.6930253505706787\n",
            "4500 0.6930099129676819\n",
            "4600 0.6929912567138672\n",
            "4700 0.6929686069488525\n",
            "4800 0.6929409503936768\n",
            "4900 0.6929061412811279\n",
            "5000 0.6928619742393494\n",
            "5100 0.6928046941757202\n",
            "5200 0.692728579044342\n",
            "5300 0.6926243901252747\n",
            "5400 0.6924766302108765\n",
            "5500 0.6922580003738403\n",
            "5600 0.6919150948524475\n",
            "5700 0.6913350820541382\n",
            "5800 0.6902406215667725\n",
            "5900 0.6877914667129517\n",
            "6000 0.6804071664810181\n",
            "6100 0.6419462561607361\n",
            "6200 0.41211575269699097\n",
            "6300 0.030512632802128792\n",
            "6400 0.011337011121213436\n",
            "6500 0.0066381581127643585\n",
            "6600 0.004616884049028158\n",
            "6700 0.003511686809360981\n",
            "6800 0.0028208508156239986\n",
            "6900 0.002350584138184786\n",
            "7000 0.002010849304497242\n",
            "7100 0.001754558878019452\n",
            "7200 0.0015546467620879412\n",
            "7300 0.001394543913193047\n",
            "7400 0.0012635323219001293\n",
            "7500 0.0011544838780537248\n",
            "7600 0.0010622894624248147\n",
            "7700 0.0009834535885602236\n",
            "7800 0.0009152140701189637\n",
            "7900 0.0008556146640330553\n",
            "8000 0.0008031624602153897\n",
            "8100 0.0007566334679722786\n",
            "8200 0.0007150723831728101\n",
            "8300 0.0006777180824428797\n",
            "8400 0.0006439738208428025\n",
            "8500 0.0006134513532742858\n",
            "8600 0.0005855689523741603\n",
            "8700 0.000560087850317359\n",
            "8800 0.0005366797558963299\n",
            "8900 0.000515076273586601\n",
            "9000 0.000495157961267978\n",
            "9100 0.0004766712663695216\n",
            "9200 0.00045948190381750464\n",
            "9300 0.0004434855072759092\n",
            "9400 0.0004285329196136445\n",
            "9500 0.0004145495768170804\n",
            "9600 0.00040138629265129566\n",
            "9700 0.0003890878288075328\n",
            "9800 0.00037746032467111945\n",
            "9900 0.00036653358256444335\n",
            "10000 0.00035617343382909894\n"
          ]
        }
      ]
    },
    {
      "cell_type": "code",
      "metadata": {
        "colab": {
          "base_uri": "https://localhost:8080/"
        },
        "id": "MnR9FQ7Daxh5",
        "outputId": "4254ed04-c4ac-47d7-fc0e-197e26065d3b"
      },
      "source": [
        "# Accuracy computation\n",
        "# True if hypothesis>0.5 else False\n",
        "with torch.no_grad():\n",
        "    hypothesis = model(X)\n",
        "    predicted = (hypothesis > 0.5).float()\n",
        "    accuracy = (predicted == Y).float().mean()\n",
        "    print('\\nHypothesis: ', hypothesis.detach().cpu().numpy(), '\\nCorrect: ', predicted.detach().cpu().numpy(), '\\nAccuracy: ', accuracy.item())"
      ],
      "execution_count": 16,
      "outputs": [
        {
          "output_type": "stream",
          "name": "stdout",
          "text": [
            "\n",
            "Hypothesis:  [[2.4808175e-04]\n",
            " [9.9958676e-01]\n",
            " [9.9962664e-01]\n",
            " [3.8931574e-04]] \n",
            "Correct:  [[0.]\n",
            " [1.]\n",
            " [1.]\n",
            " [0.]] \n",
            "Accuracy:  1.0\n"
          ]
        }
      ]
    }
  ]
}