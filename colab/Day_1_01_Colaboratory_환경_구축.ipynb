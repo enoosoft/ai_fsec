{
  "cells": [
    {
      "cell_type": "markdown",
      "metadata": {
        "colab_type": "text",
        "id": "view-in-github"
      },
      "source": [
        "<a href=\"https://colab.research.google.com/github/enoosoft/ai_fsec/blob/master/colab/Day_1_01_Colaboratory_%E1%84%92%E1%85%AA%E1%86%AB%E1%84%80%E1%85%A7%E1%86%BC_%E1%84%80%E1%85%AE%E1%84%8E%E1%85%AE%E1%86%A8.ipynb\" target=\"_parent\"><img src=\"https://colab.research.google.com/assets/colab-badge.svg\" alt=\"Open In Colab\"/></a>"
      ]
    },
    {
      "cell_type": "code",
      "execution_count": null,
      "metadata": {
        "id": "H43gYI9RYDkv"
      },
      "outputs": [],
      "source": [
        "print(\"Hello World\")"
      ]
    },
    {
      "cell_type": "markdown",
      "metadata": {
        "id": "8Mk13ZeMMWKC"
      },
      "source": [
        "# Colab 환경 설정\n",
        "구글 계정에 가입한 후 아래와 같이 진행한다.\n",
        "\n",
        "1.  https://drive.google.com에 접속 후,  우클릭하여 다음과 같이 test 폴더를 만든다\n",
        "![대체 텍스트](https://theorydb.github.io/assets/img/dev/ml/2019-08-23-dev-ml-colab-2.jpg)\n",
        "2. 좌측 상단의 [+새로만들기] 버튼 > 더보기 > 연결할 앱 더보기를 선택한다.\n",
        "![대체 텍스트](https://theorydb.github.io/assets/img/dev/ml/2019-08-23-dev-ml-colab-3.jpg)\n",
        "3. 새로 뜬 팝업의 우측 상단에 colab이라는 검색어를 입력하면 아래 그림과 같이 Google Colaboratory 앱이 등장한다. 검색어 바로 밑에있는 녹색 연결하기 버튼을 누른다. (필자의 경우 이미 연결했기 때문에 평가하기 버튼으로 보이고 있다.)\n",
        "![대체 텍스트](https://theorydb.github.io/assets/img/dev/ml/2019-08-23-dev-ml-colab-4.jpg)\n",
        "4. 드라이브 메인화면으로 이동 > 톱니바퀴 모양 버튼 클릭 > 설정을 클릭한다.\n",
        "![대체 텍스트](https://theorydb.github.io/assets/img/dev/ml/2019-08-23-dev-ml-colab-5.jpg)\n",
        "5. 새로 뜬 팝업의 좌측 메뉴 앱관리 클릭 > Google Colaboratory 우측의 기본값으로 사용 체크박스 클릭 > 완료를 클릭한다.\n",
        "![대체 텍스트](https://theorydb.github.io/assets/img/dev/ml/2019-08-23-dev-ml-colab-6.jpg)\n",
        "6. 드라이브 메인화면으로 이동 > 우클릭 > 더보기 > Google Colaboratory 클릭\n",
        "![대체 텍스트](https://theorydb.github.io/assets/img/dev/ml/2019-08-23-dev-ml-colab-7.jpg)\n",
        "7. 드디어 .ipynb 확장자 파일의 쥬피터 노트북이 등장했다. 파일이름을 클릭하여 test.ipynb로 이름을 변경하자.\n",
        "8. 상단 메뉴의 도구 > 환경설정을 클릭한다\n",
        "![대체 텍스트](https://theorydb.github.io/assets/img/dev/ml/2019-08-23-dev-ml-colab-8.jpg)\n",
        "9. (좌측) 편집기 탭 클릭 > 들여쓰기 4선택 > 체크박스 2개 체크\n",
        "![대체 텍스트](https://theorydb.github.io/assets/img/dev/ml/2019-08-23-dev-ml-colab-9.jpg)\n",
        "10. (좌측) 기타 탭 클릭 > 원하는 설정을 적용 > 저장을 클릭한다.\n",
        "![대체 텍스트](https://theorydb.github.io/assets/img/dev/ml/2019-08-23-dev-ml-colab-10.jpg)\n",
        " * 참고로 파워레벨을 선택 시, 코딩마다 불꽃이 튀기는 재미가 있다.\n",
        " * 아기고양이 모드를 선택 시, 코딩에 지칠 때 고양이들이 위에 튀어나와 근심(?)을 덜어준다.\n",
        "11. 상단 메뉴 런타임 > 런타임 유형 변경을 클릭한다\n",
        "![대체 텍스트](https://theorydb.github.io/assets/img/dev/ml/2019-08-23-dev-ml-colab-11.jpg)\n",
        "12. 상단 메뉴 런타임 > 런타임 유형 변경을 클릭한다\n",
        "![대체 텍스트](https://theorydb.github.io/assets/img/dev/ml/2019-08-23-dev-ml-colab-12.jpg)\n",
        "13. 런타임 유형은 Python3를, 가속기는 GPU를 선택 > 저장을 클릭한다.\n",
        "![대체 텍스트](https://theorydb.github.io/assets/img/dev/ml/2019-08-23-dev-ml-colab-13.jpg)\n",
        "14. 아래 그림과 같이 연결 버튼을 클릭한다.\n",
        "![대체 텍스트](https://theorydb.github.io/assets/img/dev/ml/2019-08-23-dev-ml-colab-14.jpg)\n",
        " * 할당중.. > 연결중… > 초기화중.. 으로 텍스트가 변경되며, 최종 RAM, 디스크 사용량 막대그래프가 나올 것이다.\n",
        "15. 아래와 같이 [>] 모양의 버튼을 클릭하면, 목차, 코드스니펫, 파일등의 기능을 활용할 수 있다.\n",
        "![대체 텍스트](https://theorydb.github.io/assets/img/dev/ml/2019-08-23-dev-ml-colab-15.jpg)\n"
      ]
    },
    {
      "cell_type": "code",
      "execution_count": null,
      "metadata": {
        "id": "eX60nwuRWSAv"
      },
      "outputs": [],
      "source": []
    },
    {
      "cell_type": "markdown",
      "metadata": {
        "id": "0KJwWIl2WSqV"
      },
      "source": []
    },
    {
      "cell_type": "code",
      "execution_count": null,
      "metadata": {
        "id": "wWYlR9TyWTUp"
      },
      "outputs": [],
      "source": []
    },
    {
      "cell_type": "markdown",
      "metadata": {
        "id": "JNRUCFNrWTqt"
      },
      "source": []
    },
    {
      "cell_type": "markdown",
      "metadata": {
        "id": "mFFD1dOm2PcH"
      },
      "source": [
        "# Colab 서버 스펙 확인"
      ]
    },
    {
      "cell_type": "code",
      "execution_count": null,
      "metadata": {
        "id": "KacO5CO73fA3"
      },
      "outputs": [],
      "source": [
        "import platform\n",
        "platform.platform()"
      ]
    },
    {
      "cell_type": "code",
      "execution_count": null,
      "metadata": {
        "id": "yp-qIpYFbByB"
      },
      "outputs": [],
      "source": [
        "!ls"
      ]
    },
    {
      "cell_type": "code",
      "execution_count": null,
      "metadata": {
        "id": "cu0IEcCEbqKx"
      },
      "outputs": [],
      "source": [
        "!pwd"
      ]
    },
    {
      "cell_type": "code",
      "execution_count": null,
      "metadata": {
        "id": "sdT4cbuZ09Ua"
      },
      "outputs": [],
      "source": [
        "!cat /etc/issue.net\n",
        "!cat /proc/meminfo\n",
        "!cat /proc/cpuinfo\n",
        "!df -h\n",
        "!nvidia-smi\n",
        "!python --version\n",
        "!ls"
      ]
    },
    {
      "cell_type": "code",
      "execution_count": null,
      "metadata": {
        "id": "8AT1_c3B1BT2"
      },
      "outputs": [],
      "source": [
        "from tensorflow.python.client import device_lib\n",
        "device_lib.list_local_devices()"
      ]
    },
    {
      "cell_type": "code",
      "execution_count": null,
      "metadata": {
        "id": "lTjArctf1IT6"
      },
      "outputs": [],
      "source": [
        "%%writefile  test.py\n",
        "print('hello world!')\n",
        "\n",
        "# test.py 실행시키기\n",
        "%run test.py\n",
        "\n",
        "from google.colab import files\n",
        "# 브라우저에 다운로드 됨을 확인할 수 있다.\n",
        "files.download('test.py')\n",
        "\n",
        "# [Cancel upload] 버튼을 클릭하여 잠시 멈춘 후 파일선택 버튼을 클릭하면 PC 내 파일을 선택할 수 있는 다이얼로그 창이 뜬다.\n",
        "# 리턴값을 받는 변수인 myupload라는 이름의 디렉토리가 생성된다.\n",
        "myupload = files.upload()"
      ]
    },
    {
      "cell_type": "markdown",
      "metadata": {
        "id": "crYNXAxI5W9n"
      },
      "source": [
        "# 구글드라이브 연동"
      ]
    },
    {
      "cell_type": "markdown",
      "metadata": {
        "id": "SEJzQmZEEqeF"
      },
      "source": [
        "# 새 섹션"
      ]
    },
    {
      "cell_type": "code",
      "execution_count": null,
      "metadata": {
        "id": "kn-Jg6Ji1buU"
      },
      "outputs": [],
      "source": [
        "  import os\n",
        "\n",
        "  # 실행시 등장하는 URL을 클릭하여 허용해주면 인증KEY가 나타난다. 복사하여 URL아래 빈칸에 붙여넣으면 마운트에 성공하게된다.\n",
        "  from google.colab import drive \n",
        "  drive.mount('/content/gdrive/')\n",
        "\n",
        "  # 마운트된 내 드라이브를 확인해보자\n",
        "  !ls\n",
        "\n",
        "  # 마툰트된 내 드라이브에 파일을 작성한 후 그 파일의 내용을 추력해보자.\n",
        "  !mkdir /content/gdrive/My\\ Drive/colab_test\n",
        "  with open('/content/gdrive/My Drive/colab_test/hello.txt', 'w') as f: \n",
        "      f.write('Hello Google Drive colab !')\n",
        "\n",
        "  !cat /content/gdrive/My\\ Drive/colab_test/hello.txt"
      ]
    },
    {
      "cell_type": "markdown",
      "metadata": {
        "id": "ZP79z-P-1o-S"
      },
      "source": [
        "**단축키 모음**\n",
        "\n",
        "* 코드가 오래 실행되어 멈추고 싶은경우 : Ctrl+ M \n",
        "* 엔터키 : 편집모드(Vi 편집기와 유사)\n",
        "* ESC : 선택모드(Vi 편집기와 유사)\n",
        "* 선택모드에서 화살표 방향키 : 셀 포커스를 위 * * 아래로 움직일 수 있음\n",
        "* 마크다운으로 전환 : Ctrl + M M\n",
        "* 코드로 전환 : Ctrl + M Y\n",
        "* 선택된 셀을 실행 : Ctrl + Enter\n",
        "* 선택된 셀을 실행 후 다음 셀로 포커스 이동 : Shift + Enter\n",
        "* 실행 후 다음줄로 이동 : Alt + Enter\n",
        "* 위 코드로도 멈추지 않고 작업을 완전종료하고 싶은 경우 : Ctrl+M+.\n",
        "* 코드셀에 줄번호 부여 : Ctrl + M L\n",
        "* 바로 윗줄에 셀 생성 : Ctrl + M A\n",
        "* 바로 아랫줄에 셀 생성 : Ctrl + M B\n",
        "* 셀 삭제 : Ctrl + M D\n",
        "* 저장 : Ctrl + S"
      ]
    }
  ],
  "metadata": {
    "colab": {
      "collapsed_sections": [],
      "include_colab_link": true,
      "name": "Day 1_01. Colaboratory 환경 구축.ipynb",
      "private_outputs": true,
      "provenance": []
    },
    "gpuClass": "standard",
    "kernelspec": {
      "display_name": "Python 3.10.1 64-bit ('3.10.1')",
      "language": "python",
      "name": "python3"
    },
    "language_info": {
      "name": "python",
      "version": "3.10.1"
    },
    "vscode": {
      "interpreter": {
        "hash": "6fb940f28cdeb4d0f3efab4ebcd10cc33ac5350c399a7abce4fc298ff5aecbb2"
      }
    }
  },
  "nbformat": 4,
  "nbformat_minor": 0
}
